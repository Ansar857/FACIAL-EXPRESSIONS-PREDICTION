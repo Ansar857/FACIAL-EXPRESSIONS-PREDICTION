{
 "cells": [
  {
   "cell_type": "code",
   "execution_count": 1,
   "id": "7639951e",
   "metadata": {},
   "outputs": [],
   "source": [
    "import os, shutil"
   ]
  },
  {
   "cell_type": "code",
   "execution_count": 2,
   "id": "734c7eee",
   "metadata": {},
   "outputs": [],
   "source": [
    "original_dataset_dir = 'C:/Users/Muhammad Ansar/images'"
   ]
  },
  {
   "cell_type": "code",
   "execution_count": 3,
   "id": "2871b47c",
   "metadata": {},
   "outputs": [],
   "source": [
    "base_dir = 'C:/Users/Muhammad Ansar/small data'\n",
    "os.mkdir(base_dir)"
   ]
  },
  {
   "cell_type": "code",
   "execution_count": 4,
   "id": "f1857e06",
   "metadata": {},
   "outputs": [],
   "source": [
    "train_dir = os.path.join(base_dir, 'train')\n",
    "os.mkdir(train_dir)"
   ]
  },
  {
   "cell_type": "code",
   "execution_count": 5,
   "id": "402091cf",
   "metadata": {},
   "outputs": [],
   "source": [
    "validation_dir = os.path.join(base_dir, 'validation')\n",
    "os.mkdir(validation_dir)"
   ]
  },
  {
   "cell_type": "code",
   "execution_count": 6,
   "id": "7d7ef145",
   "metadata": {},
   "outputs": [],
   "source": [
    "test_dir = os.path.join(base_dir, 'test')\n",
    "os.mkdir(test_dir)    "
   ]
  },
  {
   "cell_type": "markdown",
   "id": "0b1ac74e",
   "metadata": {},
   "source": [
    "# TRAIN DIRECTORY"
   ]
  },
  {
   "cell_type": "code",
   "execution_count": 7,
   "id": "5ce59b2c",
   "metadata": {},
   "outputs": [],
   "source": [
    "train_angry_dir = os.path.join(train_dir, 'angry')\n",
    "os.mkdir(train_angry_dir)"
   ]
  },
  {
   "cell_type": "code",
   "execution_count": 8,
   "id": "b25a0e36",
   "metadata": {},
   "outputs": [],
   "source": [
    "train_fear_dir = os.path.join(train_dir, 'fear')\n",
    "os.mkdir(train_fear_dir)"
   ]
  },
  {
   "cell_type": "code",
   "execution_count": 9,
   "id": "b0bdd0dd",
   "metadata": {},
   "outputs": [],
   "source": [
    "train_happy_dir = os.path.join(train_dir, 'happy')\n",
    "os.mkdir(train_happy_dir)"
   ]
  },
  {
   "cell_type": "code",
   "execution_count": 10,
   "id": "b00cf333",
   "metadata": {},
   "outputs": [],
   "source": [
    "train_surprise_dir = os.path.join(train_dir, 'surprise')\n",
    "os.mkdir(train_surprise_dir)"
   ]
  },
  {
   "cell_type": "code",
   "execution_count": 11,
   "id": "01d10a09",
   "metadata": {},
   "outputs": [],
   "source": [
    "train_sad_dir = os.path.join(train_dir, 'sad')\n",
    "os.mkdir(train_sad_dir)"
   ]
  },
  {
   "cell_type": "code",
   "execution_count": 12,
   "id": "a904fda1",
   "metadata": {},
   "outputs": [],
   "source": [
    "train_neutral_dir = os.path.join(train_dir, 'neutral')\n",
    "os.mkdir(train_neutral_dir)"
   ]
  },
  {
   "cell_type": "markdown",
   "id": "4b8c905e",
   "metadata": {},
   "source": [
    "# TEST DIRECTORY"
   ]
  },
  {
   "cell_type": "code",
   "execution_count": 13,
   "id": "cbdc63ab",
   "metadata": {},
   "outputs": [],
   "source": [
    "test_angry_dir = os.path.join(test_dir, 'angry')\n",
    "os.mkdir(test_angry_dir)\n",
    "test_fear_dir = os.path.join(test_dir, 'fear')\n",
    "os.mkdir(test_fear_dir)\n",
    "test_happy_dir = os.path.join(test_dir, 'happy')\n",
    "os.mkdir(test_happy_dir)\n",
    "test_neutral_dir = os.path.join(test_dir, 'neutral')\n",
    "os.mkdir(test_neutral_dir)\n",
    "test_sad_dir = os.path.join(test_dir, 'sad')\n",
    "os.mkdir(test_sad_dir)\n",
    "test_surprise_dir = os.path.join(test_dir, 'surprise')\n",
    "os.mkdir(test_surprise_dir)"
   ]
  },
  {
   "cell_type": "markdown",
   "id": "ad352b42",
   "metadata": {},
   "source": [
    "# VALIDATION DIRECTORY"
   ]
  },
  {
   "cell_type": "code",
   "execution_count": 14,
   "id": "fd1e07ca",
   "metadata": {},
   "outputs": [],
   "source": [
    "validation_angry_dir = os.path.join(validation_dir, 'angry')\n",
    "os.mkdir(validation_angry_dir)\n",
    "validation_fear_dir = os.path.join(validation_dir, 'fear')\n",
    "os.mkdir(validation_fear_dir)\n",
    "validation_happy_dir = os.path.join(validation_dir, 'happy')\n",
    "os.mkdir(validation_happy_dir)\n",
    "validation_neutral_dir = os.path.join(validation_dir, 'neutral')\n",
    "os.mkdir(validation_neutral_dir)\n",
    "validation_sad_dir = os.path.join(validation_dir, 'sad')\n",
    "os.mkdir(validation_sad_dir)\n",
    "validation_surprise_dir = os.path.join(validation_dir, 'surprise')\n",
    "os.mkdir(validation_surprise_dir)"
   ]
  },
  {
   "cell_type": "markdown",
   "id": "ba1f2694",
   "metadata": {},
   "source": [
    "# RENAMING PICTURES\n"
   ]
  },
  {
   "cell_type": "markdown",
   "id": "2836abc9",
   "metadata": {},
   "source": [
    "## ANGRY"
   ]
  },
  {
   "cell_type": "code",
   "execution_count": 24,
   "id": "b5275d38",
   "metadata": {},
   "outputs": [],
   "source": [
    "import os\n",
    " \n",
    "# Function to rename multiple files\n",
    "def main():\n",
    "   \n",
    "    folder = 'C:/Users/Muhammad Ansar/images/train/angry'\n",
    "    for count, filename in enumerate(os.listdir(folder)):\n",
    "        dst = f\"{str(count)}.jpg\"\n",
    "        src =f\"{folder}/{filename}\"  # foldername/filename, if .py file is outside folder\n",
    "        dst =f\"{folder}/{dst}\"\n",
    "         \n",
    "        # rename() function will\n",
    "        # rename all the files\n",
    "        os.rename(src, dst)\n",
    " \n",
    "# Driver Code\n",
    "if __name__ == '__main__':\n",
    "     \n",
    "    # Calling main() function\n",
    "    main()\n"
   ]
  },
  {
   "cell_type": "markdown",
   "id": "8defe8f6",
   "metadata": {},
   "source": [
    "## FEAR"
   ]
  },
  {
   "cell_type": "code",
   "execution_count": 25,
   "id": "940a9b7c",
   "metadata": {},
   "outputs": [],
   "source": [
    "import os\n",
    " \n",
    "# Function to rename multiple files\n",
    "def main():\n",
    "   \n",
    "    folder = \"C:/Users/Muhammad Ansar/images/train/fear\"\n",
    "    for count, filename in enumerate(os.listdir(folder)):\n",
    "        dst = f\"{str(count)}.jpg\"\n",
    "        src =f\"{folder}/{filename}\"  # foldername/filename, if .py file is outside folder\n",
    "        dst =f\"{folder}/{dst}\"\n",
    "         \n",
    "        # rename() function will\n",
    "        # rename all the files\n",
    "        os.rename(src, dst)\n",
    " \n",
    "# Driver Code\n",
    "if __name__ == '__main__':\n",
    "     \n",
    "    # Calling main() function\n",
    "    main()"
   ]
  },
  {
   "cell_type": "markdown",
   "id": "109980a3",
   "metadata": {},
   "source": [
    "## HAPPY"
   ]
  },
  {
   "cell_type": "code",
   "execution_count": 26,
   "id": "04daddc7",
   "metadata": {},
   "outputs": [],
   "source": [
    "import os\n",
    " \n",
    "# Function to rename multiple files\n",
    "def main():\n",
    "   \n",
    "    folder = \"C:/Users/Muhammad Ansar/images/train/happy\"\n",
    "    for count, filename in enumerate(os.listdir(folder)):\n",
    "        dst = f\"{str(count)}.jpg\"\n",
    "        src =f\"{folder}/{filename}\"  # foldername/filename, if .py file is outside folder\n",
    "        dst =f\"{folder}/{dst}\"\n",
    "         \n",
    "        # rename() function will\n",
    "        # rename all the files\n",
    "        os.rename(src, dst)\n",
    " \n",
    "# Driver Code\n",
    "if __name__ == '__main__':\n",
    "     \n",
    "    # Calling main() function\n",
    "    main()"
   ]
  },
  {
   "cell_type": "markdown",
   "id": "2d4ecd6d",
   "metadata": {},
   "source": [
    "## NEUTRAL"
   ]
  },
  {
   "cell_type": "code",
   "execution_count": 27,
   "id": "8a63144a",
   "metadata": {},
   "outputs": [],
   "source": [
    "import os\n",
    " \n",
    "# Function to rename multiple files\n",
    "def main():\n",
    "   \n",
    "    folder = \"C:/Users/Muhammad Ansar/images/train/neutral\"\n",
    "    for count, filename in enumerate(os.listdir(folder)):\n",
    "        dst = f\"{str(count)}.jpg\"\n",
    "        src =f\"{folder}/{filename}\"  # foldername/filename, if .py file is outside folder\n",
    "        dst =f\"{folder}/{dst}\"\n",
    "         \n",
    "        # rename() function will\n",
    "        # rename all the files\n",
    "        os.rename(src, dst)\n",
    " \n",
    "# Driver Code\n",
    "if __name__ == '__main__':\n",
    "     \n",
    "    # Calling main() function\n",
    "    main()"
   ]
  },
  {
   "cell_type": "markdown",
   "id": "21552457",
   "metadata": {},
   "source": [
    "## SAD"
   ]
  },
  {
   "cell_type": "code",
   "execution_count": 28,
   "id": "434515f6",
   "metadata": {},
   "outputs": [],
   "source": [
    "import os\n",
    " \n",
    "# Function to rename multiple files\n",
    "def main():\n",
    "   \n",
    "    folder = \"C:/Users/Muhammad Ansar/images/train/sad\"\n",
    "    for count, filename in enumerate(os.listdir(folder)):\n",
    "        dst = f\"{str(count)}.jpg\"\n",
    "        src =f\"{folder}/{filename}\"  # foldername/filename, if .py file is outside folder\n",
    "        dst =f\"{folder}/{dst}\"\n",
    "         \n",
    "        # rename() function will\n",
    "        # rename all the files\n",
    "        os.rename(src, dst)\n",
    " \n",
    "# Driver Code\n",
    "if __name__ == '__main__':\n",
    "     \n",
    "    # Calling main() function\n",
    "    main()"
   ]
  },
  {
   "cell_type": "markdown",
   "id": "20be8cdd",
   "metadata": {},
   "source": [
    "## SURPRISE\n"
   ]
  },
  {
   "cell_type": "code",
   "execution_count": 29,
   "id": "e2648e24",
   "metadata": {},
   "outputs": [],
   "source": [
    "import os\n",
    " \n",
    "# Function to rename multiple files\n",
    "def main():\n",
    "   \n",
    "    folder = \"C:/Users/Muhammad Ansar/images/train/surprise\"\n",
    "    for count, filename in enumerate(os.listdir(folder)):\n",
    "        dst = f\"{str(count)}.jpg\"\n",
    "        src =f\"{folder}/{filename}\"  # foldername/filename, if .py file is outside folder\n",
    "        dst =f\"{folder}/{dst}\"\n",
    "         \n",
    "        # rename() function will\n",
    "        # rename all the files\n",
    "        os.rename(src, dst)\n",
    " \n",
    "# Driver Code\n",
    "if __name__ == '__main__':\n",
    "     \n",
    "    # Calling main() function\n",
    "    main()"
   ]
  },
  {
   "cell_type": "markdown",
   "id": "22021b8b",
   "metadata": {},
   "source": [
    "# copying images from the dataset"
   ]
  },
  {
   "cell_type": "markdown",
   "id": "e414b724",
   "metadata": {},
   "source": [
    "## TRAINING"
   ]
  },
  {
   "cell_type": "code",
   "execution_count": 30,
   "id": "07e69f7c",
   "metadata": {},
   "outputs": [],
   "source": [
    "original_dataset_dir = 'C:/Users/Muhammad Ansar/images/train/angry'\n",
    "fnames = ['{}.jpg'.format(i) for i in range(1000)]\n",
    "for fname in fnames:\n",
    "    src = os.path.join(original_dataset_dir, fname)\n",
    "    dst = os.path.join(train_angry_dir, fname)\n",
    "    shutil.copyfile(src, dst)"
   ]
  },
  {
   "cell_type": "code",
   "execution_count": 31,
   "id": "7a0573f0",
   "metadata": {},
   "outputs": [],
   "source": [
    "original_dataset_dir = 'C:/Users/Muhammad Ansar/images/train/fear'\n",
    "fnames = ['{}.jpg'.format(i) for i in range(1000)]\n",
    "for fname in fnames:\n",
    "    src = os.path.join(original_dataset_dir, fname)\n",
    "    dst = os.path.join(train_fear_dir, fname)\n",
    "    shutil.copyfile(src, dst)"
   ]
  },
  {
   "cell_type": "code",
   "execution_count": 32,
   "id": "6e877036",
   "metadata": {},
   "outputs": [],
   "source": [
    "original_dataset_dir = 'C:/Users/Muhammad Ansar/images/train/sad'\n",
    "fnames = ['{}.jpg'.format(i) for i in range(1000)]\n",
    "for fname in fnames:\n",
    "    src = os.path.join(original_dataset_dir, fname)\n",
    "    dst = os.path.join(train_sad_dir, fname)\n",
    "    shutil.copyfile(src, dst)"
   ]
  },
  {
   "cell_type": "code",
   "execution_count": 33,
   "id": "b81e63a3",
   "metadata": {},
   "outputs": [],
   "source": [
    "original_dataset_dir = 'C:/Users/Muhammad Ansar/images/train/surprise'\n",
    "fnames = ['{}.jpg'.format(i) for i in range(1000)]\n",
    "for fname in fnames:\n",
    "    src = os.path.join(original_dataset_dir, fname)\n",
    "    dst = os.path.join(train_surprise_dir, fname)\n",
    "    shutil.copyfile(src, dst)"
   ]
  },
  {
   "cell_type": "code",
   "execution_count": 34,
   "id": "eb466ba9",
   "metadata": {},
   "outputs": [],
   "source": [
    "original_dataset_dir = 'C:/Users/Muhammad Ansar/images/train/neutral'\n",
    "fnames = ['{}.jpg'.format(i) for i in range(1000)]\n",
    "for fname in fnames:\n",
    "    src = os.path.join(original_dataset_dir, fname)\n",
    "    dst = os.path.join(train_neutral_dir, fname)\n",
    "    shutil.copyfile(src, dst)"
   ]
  },
  {
   "cell_type": "code",
   "execution_count": 35,
   "id": "e415a0fd",
   "metadata": {},
   "outputs": [],
   "source": [
    "original_dataset_dir = 'C:/Users/Muhammad Ansar/images/train/happy'\n",
    "fnames = ['{}.jpg'.format(i) for i in range(1000)]\n",
    "for fname in fnames:\n",
    "    src = os.path.join(original_dataset_dir, fname)\n",
    "    dst = os.path.join(train_happy_dir, fname)\n",
    "    shutil.copyfile(src, dst)"
   ]
  },
  {
   "cell_type": "markdown",
   "id": "f4c448ca",
   "metadata": {},
   "source": [
    "##  VALIDATION"
   ]
  },
  {
   "cell_type": "code",
   "execution_count": 36,
   "id": "2980c3c9",
   "metadata": {},
   "outputs": [],
   "source": [
    "original_dataset_dir = 'C:/Users/Muhammad Ansar/images/train/angry'\n",
    "fnames = ['{}.jpg'.format(i) for i in range(1000, 1500)]\n",
    "for fname in fnames:\n",
    "    src = os.path.join(original_dataset_dir, fname)\n",
    "    dst = os.path.join(validation_angry_dir, fname)\n",
    "    shutil.copyfile(src, dst)"
   ]
  },
  {
   "cell_type": "code",
   "execution_count": 37,
   "id": "f5c14cdd",
   "metadata": {},
   "outputs": [],
   "source": [
    "original_dataset_dir = 'C:/Users/Muhammad Ansar/images/train/fear'\n",
    "fnames = ['{}.jpg'.format(i) for i in range(1000, 1500)]\n",
    "for fname in fnames:\n",
    "    src = os.path.join(original_dataset_dir, fname)\n",
    "    dst = os.path.join(validation_fear_dir, fname)\n",
    "    shutil.copyfile(src, dst)"
   ]
  },
  {
   "cell_type": "code",
   "execution_count": 38,
   "id": "3060f671",
   "metadata": {},
   "outputs": [],
   "source": [
    "original_dataset_dir = 'C:/Users/Muhammad Ansar/images/train/sad'\n",
    "fnames = ['{}.jpg'.format(i) for i in range(1000, 1500)]\n",
    "for fname in fnames:\n",
    "    src = os.path.join(original_dataset_dir, fname)\n",
    "    dst = os.path.join(validation_sad_dir, fname)\n",
    "    shutil.copyfile(src, dst)"
   ]
  },
  {
   "cell_type": "code",
   "execution_count": 39,
   "id": "3045d831",
   "metadata": {},
   "outputs": [],
   "source": [
    "original_dataset_dir = 'C:/Users/Muhammad Ansar/images/train/surprise'\n",
    "fnames = ['{}.jpg'.format(i) for i in range(1000, 1500)]\n",
    "for fname in fnames:\n",
    "    src = os.path.join(original_dataset_dir, fname)\n",
    "    dst = os.path.join(validation_surprise_dir, fname)\n",
    "    shutil.copyfile(src, dst)"
   ]
  },
  {
   "cell_type": "code",
   "execution_count": 40,
   "id": "ba2d4d0c",
   "metadata": {},
   "outputs": [],
   "source": [
    "original_dataset_dir = 'C:/Users/Muhammad Ansar/images/train/neutral'\n",
    "fnames = ['{}.jpg'.format(i) for i in range(1000, 1500)]\n",
    "for fname in fnames:\n",
    "    src = os.path.join(original_dataset_dir, fname)\n",
    "    dst = os.path.join(validation_neutral_dir, fname)\n",
    "    shutil.copyfile(src, dst)"
   ]
  },
  {
   "cell_type": "code",
   "execution_count": 41,
   "id": "a5a340f0",
   "metadata": {},
   "outputs": [],
   "source": [
    "original_dataset_dir = 'C:/Users/Muhammad Ansar/images/train/happy'\n",
    "fnames = ['{}.jpg'.format(i) for i in range(1000, 1500)]\n",
    "for fname in fnames:\n",
    "    src = os.path.join(original_dataset_dir, fname)\n",
    "    dst = os.path.join(validation_happy_dir, fname)\n",
    "    shutil.copyfile(src, dst)"
   ]
  },
  {
   "cell_type": "markdown",
   "id": "dae1c8a3",
   "metadata": {},
   "source": [
    "##  TEST"
   ]
  },
  {
   "cell_type": "code",
   "execution_count": 42,
   "id": "c98e09f9",
   "metadata": {},
   "outputs": [],
   "source": [
    "original_dataset_dir = 'C:/Users/Muhammad Ansar/images/train/angry'\n",
    "fnames = ['{}.jpg'.format(i) for i in range(1500, 2000)]\n",
    "for fname in fnames:\n",
    "    src = os.path.join(original_dataset_dir, fname)\n",
    "    dst = os.path.join(test_angry_dir, fname)\n",
    "    shutil.copyfile(src, dst)"
   ]
  },
  {
   "cell_type": "code",
   "execution_count": 43,
   "id": "9351f69b",
   "metadata": {},
   "outputs": [],
   "source": [
    "original_dataset_dir = 'C:/Users/Muhammad Ansar/images/train/fear'\n",
    "fnames = ['{}.jpg'.format(i) for i in range(1500, 2000)]\n",
    "for fname in fnames:\n",
    "    src = os.path.join(original_dataset_dir, fname)\n",
    "    dst = os.path.join(test_fear_dir, fname)\n",
    "    shutil.copyfile(src, dst)"
   ]
  },
  {
   "cell_type": "code",
   "execution_count": 44,
   "id": "b6a543fa",
   "metadata": {},
   "outputs": [],
   "source": [
    "original_dataset_dir = 'C:/Users/Muhammad Ansar/images/train/sad'\n",
    "fnames = ['{}.jpg'.format(i) for i in range(1500, 2000)]\n",
    "for fname in fnames:\n",
    "    src = os.path.join(original_dataset_dir, fname)\n",
    "    dst = os.path.join(test_sad_dir, fname)\n",
    "    shutil.copyfile(src, dst)"
   ]
  },
  {
   "cell_type": "code",
   "execution_count": 45,
   "id": "eb9b49ed",
   "metadata": {},
   "outputs": [],
   "source": [
    "original_dataset_dir = 'C:/Users/Muhammad Ansar/images/train/surprise'\n",
    "fnames = ['{}.jpg'.format(i) for i in range(1500, 2000)]\n",
    "for fname in fnames:\n",
    "    src = os.path.join(original_dataset_dir, fname)\n",
    "    dst = os.path.join(test_surprise_dir, fname)\n",
    "    shutil.copyfile(src, dst)"
   ]
  },
  {
   "cell_type": "code",
   "execution_count": 46,
   "id": "cd5bb407",
   "metadata": {},
   "outputs": [],
   "source": [
    "original_dataset_dir = 'C:/Users/Muhammad Ansar/images/train/neutral'\n",
    "fnames = ['{}.jpg'.format(i) for i in range(1500, 2000)]\n",
    "for fname in fnames:\n",
    "    src = os.path.join(original_dataset_dir, fname)\n",
    "    dst = os.path.join(test_neutral_dir, fname)\n",
    "    shutil.copyfile(src, dst)"
   ]
  },
  {
   "cell_type": "code",
   "execution_count": 47,
   "id": "ecfbefa5",
   "metadata": {},
   "outputs": [],
   "source": [
    "original_dataset_dir = 'C:/Users/Muhammad Ansar/images/train/happy'\n",
    "fnames = ['{}.jpg'.format(i) for i in range(1500, 2000)]\n",
    "for fname in fnames:\n",
    "    src = os.path.join(original_dataset_dir, fname)\n",
    "    dst = os.path.join(test_happy_dir, fname)\n",
    "    shutil.copyfile(src, dst)"
   ]
  },
  {
   "cell_type": "markdown",
   "id": "428d8691",
   "metadata": {},
   "source": [
    "#  Instantiating a small convnet for facial expressions classification"
   ]
  },
  {
   "cell_type": "code",
   "execution_count": 48,
   "id": "8b2f31c7",
   "metadata": {},
   "outputs": [],
   "source": [
    "from keras import layers\n",
    "from keras import models\n",
    "model = models.Sequential()\n",
    "model.add(layers.Conv2D(32, (3, 3), activation='relu',\n",
    "input_shape=(150, 150, 3)))\n",
    "model.add(layers.MaxPooling2D((2, 2)))\n",
    "model.add(layers.Conv2D(64, (3, 3), activation='relu'))\n",
    "model.add(layers.MaxPooling2D((2, 2)))\n",
    "model.add(layers.Conv2D(128, (3, 3), activation='relu'))\n",
    "model.add(layers.MaxPooling2D((2, 2)))\n",
    "model.add(layers.Conv2D(128, (3, 3), activation='relu'))\n",
    "model.add(layers.MaxPooling2D((2, 2)))\n",
    "model.add(layers.Flatten())\n",
    "model.add(layers.Dense(512, activation='relu'))\n",
    "model.add(layers.Dense(1, activation='sigmoid'))"
   ]
  },
  {
   "cell_type": "code",
   "execution_count": 49,
   "id": "3e63746d",
   "metadata": {},
   "outputs": [
    {
     "name": "stdout",
     "output_type": "stream",
     "text": [
      "Model: \"sequential\"\n",
      "_________________________________________________________________\n",
      "Layer (type)                 Output Shape              Param #   \n",
      "=================================================================\n",
      "conv2d (Conv2D)              (None, 148, 148, 32)      896       \n",
      "_________________________________________________________________\n",
      "max_pooling2d (MaxPooling2D) (None, 74, 74, 32)        0         \n",
      "_________________________________________________________________\n",
      "conv2d_1 (Conv2D)            (None, 72, 72, 64)        18496     \n",
      "_________________________________________________________________\n",
      "max_pooling2d_1 (MaxPooling2 (None, 36, 36, 64)        0         \n",
      "_________________________________________________________________\n",
      "conv2d_2 (Conv2D)            (None, 34, 34, 128)       73856     \n",
      "_________________________________________________________________\n",
      "max_pooling2d_2 (MaxPooling2 (None, 17, 17, 128)       0         \n",
      "_________________________________________________________________\n",
      "conv2d_3 (Conv2D)            (None, 15, 15, 128)       147584    \n",
      "_________________________________________________________________\n",
      "max_pooling2d_3 (MaxPooling2 (None, 7, 7, 128)         0         \n",
      "_________________________________________________________________\n",
      "flatten (Flatten)            (None, 6272)              0         \n",
      "_________________________________________________________________\n",
      "dense (Dense)                (None, 512)               3211776   \n",
      "_________________________________________________________________\n",
      "dense_1 (Dense)              (None, 1)                 513       \n",
      "=================================================================\n",
      "Total params: 3,453,121\n",
      "Trainable params: 3,453,121\n",
      "Non-trainable params: 0\n",
      "_________________________________________________________________\n"
     ]
    }
   ],
   "source": [
    "model.summary()"
   ]
  },
  {
   "cell_type": "markdown",
   "id": "43583e7d",
   "metadata": {},
   "source": [
    "# Configuring the model for training"
   ]
  },
  {
   "cell_type": "code",
   "execution_count": 50,
   "id": "3104da74",
   "metadata": {},
   "outputs": [
    {
     "name": "stderr",
     "output_type": "stream",
     "text": [
      "F:\\Anaconda3\\lib\\site-packages\\tensorflow\\python\\keras\\optimizer_v2\\optimizer_v2.py:374: UserWarning: The `lr` argument is deprecated, use `learning_rate` instead.\n",
      "  warnings.warn(\n"
     ]
    }
   ],
   "source": [
    "from keras import optimizers\n",
    "model.compile(loss='categorical_crossentropy',optimizer=optimizers.RMSprop(lr=1e-4),metrics=['acc'])"
   ]
  },
  {
   "cell_type": "markdown",
   "id": "48f52cd2",
   "metadata": {},
   "source": [
    "# Using ImageDataGenerator to read images from directories"
   ]
  },
  {
   "cell_type": "code",
   "execution_count": 51,
   "id": "2830c4ee",
   "metadata": {},
   "outputs": [],
   "source": [
    "from keras.preprocessing.image import ImageDataGenerator\n",
    "train_datagen = ImageDataGenerator(rescale=1./255)\n",
    "test_datagen = ImageDataGenerator(rescale=1./255)"
   ]
  },
  {
   "cell_type": "code",
   "execution_count": 52,
   "id": "2bf2f8e1",
   "metadata": {},
   "outputs": [
    {
     "name": "stdout",
     "output_type": "stream",
     "text": [
      "Found 6000 images belonging to 6 classes.\n"
     ]
    }
   ],
   "source": [
    "train_generator = train_datagen.flow_from_directory(train_dir,target_size=(150, 150),\n",
    "batch_size=20,\n",
    "class_mode='categorical')"
   ]
  },
  {
   "cell_type": "code",
   "execution_count": 53,
   "id": "2cc84561",
   "metadata": {},
   "outputs": [
    {
     "name": "stdout",
     "output_type": "stream",
     "text": [
      "Found 3000 images belonging to 6 classes.\n"
     ]
    }
   ],
   "source": [
    "validation_generator = test_datagen.flow_from_directory(\n",
    "validation_dir,\n",
    "target_size=(150, 150),\n",
    "batch_size=60,\n",
    "class_mode='categorical')"
   ]
  },
  {
   "cell_type": "code",
   "execution_count": 54,
   "id": "a2845031",
   "metadata": {},
   "outputs": [
    {
     "name": "stdout",
     "output_type": "stream",
     "text": [
      "data batch shape: (20, 150, 150, 3)\n",
      "labels batch shape: (20, 6)\n"
     ]
    }
   ],
   "source": [
    "for data_batch, labels_batch in train_generator:\n",
    "    print('data batch shape:', data_batch.shape)\n",
    "    print('labels batch shape:', labels_batch.shape)\n",
    "    break\n"
   ]
  },
  {
   "cell_type": "markdown",
   "id": "97c507e6",
   "metadata": {},
   "source": [
    "# Fitting the model using a batch generator"
   ]
  },
  {
   "cell_type": "code",
   "execution_count": 56,
   "id": "c0df2fdf",
   "metadata": {},
   "outputs": [
    {
     "name": "stdout",
     "output_type": "stream",
     "text": [
      "Epoch 1/30\n",
      "100/100 [==============================] - 150s 2s/step - loss: 1.7917 - acc: 0.3966 - val_loss: 1.7917 - val_acc: 0.5543\n",
      "Epoch 2/30\n",
      "100/100 [==============================] - 143s 1s/step - loss: 1.7907 - acc: 0.7542 - val_loss: 1.7836 - val_acc: 0.8323\n",
      "Epoch 3/30\n",
      "100/100 [==============================] - 133s 1s/step - loss: 1.7651 - acc: 0.8102 - val_loss: 1.7405 - val_acc: 0.7805\n",
      "Epoch 4/30\n",
      "100/100 [==============================] - 133s 1s/step - loss: 1.7042 - acc: 0.7892 - val_loss: 1.7285 - val_acc: 0.8283\n",
      "Epoch 5/30\n",
      "100/100 [==============================] - 134s 1s/step - loss: 1.6575 - acc: 0.7859 - val_loss: 1.6740 - val_acc: 0.7977\n",
      "Epoch 6/30\n",
      "100/100 [==============================] - 133s 1s/step - loss: 1.6399 - acc: 0.7614 - val_loss: 1.6379 - val_acc: 0.7558\n",
      "Epoch 7/30\n",
      "100/100 [==============================] - 133s 1s/step - loss: 1.5988 - acc: 0.7539 - val_loss: 1.6367 - val_acc: 0.7742\n",
      "Epoch 8/30\n",
      "100/100 [==============================] - 134s 1s/step - loss: 1.5956 - acc: 0.7488 - val_loss: 1.6172 - val_acc: 0.7741\n",
      "Epoch 9/30\n",
      "100/100 [==============================] - 132s 1s/step - loss: 1.5947 - acc: 0.7367 - val_loss: 1.5837 - val_acc: 0.7144\n",
      "Epoch 10/30\n",
      "100/100 [==============================] - 131s 1s/step - loss: 1.5434 - acc: 0.7242 - val_loss: 1.5718 - val_acc: 0.6633\n",
      "Epoch 11/30\n",
      "100/100 [==============================] - 132s 1s/step - loss: 1.5341 - acc: 0.6553 - val_loss: 1.5619 - val_acc: 0.7054\n",
      "Epoch 12/30\n",
      "100/100 [==============================] - 131s 1s/step - loss: 1.5009 - acc: 0.6768 - val_loss: 1.5506 - val_acc: 0.7324\n",
      "Epoch 13/30\n",
      "100/100 [==============================] - 131s 1s/step - loss: 1.5107 - acc: 0.7062 - val_loss: 1.5733 - val_acc: 0.7351\n",
      "Epoch 14/30\n",
      "100/100 [==============================] - 131s 1s/step - loss: 1.4795 - acc: 0.6651 - val_loss: 1.5319 - val_acc: 0.6938\n",
      "Epoch 15/30\n",
      "100/100 [==============================] - 136s 1s/step - loss: 1.4492 - acc: 0.7127 - val_loss: 1.5209 - val_acc: 0.7528\n",
      "Epoch 16/30\n",
      "100/100 [==============================] - 139s 1s/step - loss: 1.4281 - acc: 0.7449 - val_loss: 1.4983 - val_acc: 0.6256\n",
      "Epoch 17/30\n",
      "100/100 [==============================] - 143s 1s/step - loss: 1.4425 - acc: 0.7545 - val_loss: 1.4945 - val_acc: 0.7362\n",
      "Epoch 18/30\n",
      "100/100 [==============================] - 148s 1s/step - loss: 1.4104 - acc: 0.7303 - val_loss: 1.4830 - val_acc: 0.7479\n",
      "Epoch 19/30\n",
      "100/100 [==============================] - 162s 2s/step - loss: 1.3816 - acc: 0.7350 - val_loss: 1.4732 - val_acc: 0.7556\n",
      "Epoch 20/30\n",
      "100/100 [==============================] - 155s 2s/step - loss: 1.3526 - acc: 0.7070 - val_loss: 1.4920 - val_acc: 0.7442\n",
      "Epoch 21/30\n",
      "100/100 [==============================] - 151s 2s/step - loss: 1.3489 - acc: 0.7542 - val_loss: 1.4664 - val_acc: 0.7843\n",
      "Epoch 22/30\n",
      "100/100 [==============================] - 154s 2s/step - loss: 1.3048 - acc: 0.7719 - val_loss: 1.4629 - val_acc: 0.6730\n",
      "Epoch 23/30\n",
      "100/100 [==============================] - 153s 2s/step - loss: 1.3011 - acc: 0.7252 - val_loss: 1.4526 - val_acc: 0.7310\n",
      "Epoch 24/30\n",
      "100/100 [==============================] - 140s 1s/step - loss: 1.2691 - acc: 0.7173 - val_loss: 1.4509 - val_acc: 0.7178\n",
      "Epoch 25/30\n",
      "100/100 [==============================] - 142s 1s/step - loss: 1.2638 - acc: 0.7028 - val_loss: 1.4412 - val_acc: 0.6815\n",
      "Epoch 26/30\n",
      "100/100 [==============================] - 151s 2s/step - loss: 1.2174 - acc: 0.7028 - val_loss: 1.4663 - val_acc: 0.6771\n",
      "Epoch 27/30\n",
      "100/100 [==============================] - 147s 1s/step - loss: 1.1832 - acc: 0.7029 - val_loss: 1.4584 - val_acc: 0.7255\n",
      "Epoch 28/30\n",
      "100/100 [==============================] - 144s 1s/step - loss: 1.1871 - acc: 0.7177 - val_loss: 1.4796 - val_acc: 0.6616\n",
      "Epoch 29/30\n",
      "100/100 [==============================] - 148s 1s/step - loss: 1.1417 - acc: 0.6803 - val_loss: 1.4177 - val_acc: 0.5982\n",
      "Epoch 30/30\n",
      "100/100 [==============================] - 148s 1s/step - loss: 1.1225 - acc: 0.6773 - val_loss: 1.4310 - val_acc: 0.6417\n"
     ]
    }
   ],
   "source": [
    "history = model.fit_generator(\n",
    "train_generator,\n",
    "steps_per_epoch=100,\n",
    "epochs=30,\n",
    "validation_data=validation_generator,\n",
    "validation_steps=50)"
   ]
  },
  {
   "cell_type": "markdown",
   "id": "1cb75083",
   "metadata": {},
   "source": [
    "# Saving the mode"
   ]
  },
  {
   "cell_type": "code",
   "execution_count": 57,
   "id": "da8c71ac",
   "metadata": {},
   "outputs": [],
   "source": [
    "model.save('facial_expressions_small_1.h5')"
   ]
  },
  {
   "cell_type": "markdown",
   "id": "583b81b6",
   "metadata": {},
   "source": [
    "# Displaying curves of loss and accuracy during training\n"
   ]
  },
  {
   "cell_type": "code",
   "execution_count": 58,
   "id": "043d56e3",
   "metadata": {},
   "outputs": [
    {
     "data": {
      "image/png": "[encoded data removed]",
      "text/plain": [
       "<Figure size 432x288 with 1 Axes>"
      ]
     },
     "metadata": {
      "needs_background": "light"
     },
     "output_type": "display_data"
    },
    {
     "data": {
      "image/png": "[encoded data removed]",
      "text/plain": [
       "<Figure size 432x288 with 1 Axes>"
      ]
     },
     "metadata": {
      "needs_background": "light"
     },
     "output_type": "display_data"
    }
   ],
   "source": [
    "import matplotlib.pyplot as plt\n",
    "acc = history.history['acc']\n",
    "val_acc = history.history['val_acc']\n",
    "loss = history.history['loss']\n",
    "val_loss = history.history['val_loss']\n",
    "epochs = range(1, len(acc) + 1)\n",
    "plt.plot(epochs, acc, 'bo', label='Training acc')\n",
    "plt.plot(epochs, val_acc, 'b', label='Validation acc')\n",
    "plt.title('Training and validation accuracy')\n",
    "plt.legend()\n",
    "plt.figure()\n",
    "plt.plot(epochs, loss, 'bo', label='Training loss')\n",
    "plt.plot(epochs, val_loss, 'b', label='Validation loss')\n",
    "plt.title('Training and validation loss')\n",
    "plt.legend()\n",
    "plt.show()"
   ]
  },
  {
   "cell_type": "markdown",
   "id": "9b267e97",
   "metadata": {},
   "source": [
    "# Setting up a data augmentation configuration via ImageDataGenerator"
   ]
  },
  {
   "cell_type": "code",
   "execution_count": 59,
   "id": "b120ce9f",
   "metadata": {},
   "outputs": [],
   "source": [
    "datagen = ImageDataGenerator(\n",
    "rotation_range=40,\n",
    "width_shift_range=0.2,\n",
    "height_shift_range=0.2,\n",
    "shear_range=0.2,\n",
    "zoom_range=0.2,\n",
    "horizontal_flip=True,\n",
    "fill_mode='nearest')"
   ]
  },
  {
   "cell_type": "markdown",
   "id": "a88efa26",
   "metadata": {},
   "source": [
    "# Defining a new convnet that includes dropout"
   ]
  },
  {
   "cell_type": "code",
   "execution_count": 65,
   "id": "7b943a36",
   "metadata": {},
   "outputs": [],
   "source": [
    "model = models.Sequential()\n",
    "model.add(layers.Conv2D(32, (3, 3), activation='relu',\n",
    "input_shape=(150, 150, 3)))\n",
    "model.add(layers.MaxPooling2D((2, 2)))\n",
    "model.add(layers.Conv2D(64, (3, 3), activation='relu'))\n",
    "model.add(layers.MaxPooling2D((2, 2)))\n",
    "model.add(layers.Conv2D(128, (3, 3), activation='relu'))\n",
    "model.add(layers.MaxPooling2D((2, 2)))\n",
    "model.add(layers.Conv2D(128, (3, 3), activation='relu'))\n",
    "model.add(layers.MaxPooling2D((2, 2)))\n",
    "model.add(layers.Flatten())\n",
    "model.add(layers.Dropout(0.5))\n",
    "model.add(layers.Dense(512, activation='relu'))\n",
    "model.add(layers.Dense(1, activation='sigmoid'))\n",
    "model.compile(loss='categorical_crossentropy',\n",
    "optimizer=optimizers.RMSprop(lr=1e-4),\n",
    "metrics=['acc'])"
   ]
  },
  {
   "cell_type": "markdown",
   "id": "56193ca0",
   "metadata": {},
   "source": [
    "# Training the convnet using data-augmentation generators"
   ]
  },
  {
   "cell_type": "code",
   "execution_count": 66,
   "id": "aae46179",
   "metadata": {},
   "outputs": [],
   "source": [
    "train_datagen = ImageDataGenerator(\n",
    "rescale=1./255,\n",
    "rotation_range=40,\n",
    "width_shift_range=0.2,\n",
    "height_shift_range=0.2,\n",
    "shear_range=0.2,\n",
    "zoom_range=0.2,\n",
    "horizontal_flip=True,)\n",
    "test_datagen = ImageDataGenerator(rescale=1./255)"
   ]
  },
  {
   "cell_type": "code",
   "execution_count": 67,
   "id": "5d461665",
   "metadata": {},
   "outputs": [
    {
     "name": "stdout",
     "output_type": "stream",
     "text": [
      "Found 6000 images belonging to 6 classes.\n"
     ]
    }
   ],
   "source": [
    "train_generator = train_datagen.flow_from_directory(\n",
    "train_dir,\n",
    "target_size=(150, 150),\n",
    "batch_size=32,\n",
    "class_mode='categorical')"
   ]
  },
  {
   "cell_type": "code",
   "execution_count": 68,
   "id": "f7a7333f",
   "metadata": {},
   "outputs": [
    {
     "name": "stdout",
     "output_type": "stream",
     "text": [
      "Found 3000 images belonging to 6 classes.\n"
     ]
    }
   ],
   "source": [
    "validation_generator = test_datagen.flow_from_directory(\n",
    "validation_dir,\n",
    "target_size=(150, 150),\n",
    "batch_size=32,\n",
    "class_mode='categorical')"
   ]
  },
  {
   "cell_type": "code",
   "execution_count": 71,
   "id": "fc9a08c5",
   "metadata": {},
   "outputs": [
    {
     "name": "stdout",
     "output_type": "stream",
     "text": [
      "Epoch 1/20\n",
      "100/100 [==============================] - 170s 2s/step - loss: 1.7909 - acc: 0.3869 - val_loss: 1.7914 - val_acc: 0.2178\n",
      "Epoch 2/20\n",
      "100/100 [==============================] - 170s 2s/step - loss: 1.7901 - acc: 0.4663 - val_loss: 1.7854 - val_acc: 0.4718\n",
      "Epoch 3/20\n",
      "100/100 [==============================] - 170s 2s/step - loss: 1.7875 - acc: 0.3013 - val_loss: 1.7797 - val_acc: 0.1954\n",
      "Epoch 4/20\n",
      "100/100 [==============================] - 170s 2s/step - loss: 1.7766 - acc: 0.3494 - val_loss: 1.7654 - val_acc: 0.2380\n",
      "Epoch 5/20\n",
      "100/100 [==============================] - 170s 2s/step - loss: 1.7757 - acc: 0.3608 - val_loss: 1.7643 - val_acc: 0.3550\n",
      "Epoch 6/20\n",
      "100/100 [==============================] - 172s 2s/step - loss: 1.7702 - acc: 0.3760 - val_loss: 1.7550 - val_acc: 0.3742\n",
      "Epoch 7/20\n",
      "100/100 [==============================] - 171s 2s/step - loss: 1.7669 - acc: 0.3783 - val_loss: 1.7601 - val_acc: 0.3811\n",
      "Epoch 8/20\n",
      "100/100 [==============================] - 170s 2s/step - loss: 1.7650 - acc: 0.3959 - val_loss: 1.7297 - val_acc: 0.4580\n",
      "Epoch 9/20\n",
      "100/100 [==============================] - 169s 2s/step - loss: 1.7634 - acc: 0.4380 - val_loss: 1.7518 - val_acc: 0.6140\n",
      "Epoch 10/20\n",
      "100/100 [==============================] - 169s 2s/step - loss: 1.7600 - acc: 0.5591 - val_loss: 1.7216 - val_acc: 0.5950\n",
      "Epoch 11/20\n",
      "100/100 [==============================] - 169s 2s/step - loss: 1.7588 - acc: 0.5468 - val_loss: 1.7196 - val_acc: 0.4715\n",
      "Epoch 12/20\n",
      "100/100 [==============================] - 168s 2s/step - loss: 1.7582 - acc: 0.5059 - val_loss: 1.7394 - val_acc: 0.5104\n",
      "Epoch 13/20\n",
      "100/100 [==============================] - 169s 2s/step - loss: 1.7519 - acc: 0.6241 - val_loss: 1.7205 - val_acc: 0.6391\n",
      "Epoch 14/20\n",
      "100/100 [==============================] - 169s 2s/step - loss: 1.7417 - acc: 0.6063 - val_loss: 1.7215 - val_acc: 0.6740\n",
      "Epoch 15/20\n",
      "100/100 [==============================] - 168s 2s/step - loss: 1.7449 - acc: 0.6388 - val_loss: 1.7179 - val_acc: 0.6968\n",
      "Epoch 16/20\n",
      "100/100 [==============================] - 170s 2s/step - loss: 1.7470 - acc: 0.6614 - val_loss: 1.7086 - val_acc: 0.6913\n",
      "Epoch 17/20\n",
      "100/100 [==============================] - 170s 2s/step - loss: 1.7389 - acc: 0.6481 - val_loss: 1.7107 - val_acc: 0.5734\n",
      "Epoch 18/20\n",
      "100/100 [==============================] - 176s 2s/step - loss: 1.7424 - acc: 0.5781 - val_loss: 1.7242 - val_acc: 0.3724\n",
      "Epoch 19/20\n",
      "100/100 [==============================] - 188s 2s/step - loss: 1.7263 - acc: 0.5745 - val_loss: 1.7242 - val_acc: 0.4560\n",
      "Epoch 20/20\n",
      "100/100 [==============================] - 196s 2s/step - loss: 1.7389 - acc: 0.6307 - val_loss: 1.6953 - val_acc: 0.6368\n"
     ]
    }
   ],
   "source": [
    "history = model.fit_generator(train_generator,steps_per_epoch=100,epochs=20,validation_data=validation_generator,\n",
    "validation_steps=50)"
   ]
  },
  {
   "cell_type": "markdown",
   "id": "f0d3bc6a",
   "metadata": {},
   "source": [
    "# Saving the model"
   ]
  },
  {
   "cell_type": "code",
   "execution_count": 72,
   "id": "5c7f0775",
   "metadata": {},
   "outputs": [],
   "source": [
    "model.save('cats_and_dogs_small_2.h5')"
   ]
  },
  {
   "cell_type": "code",
   "execution_count": 73,
   "id": "e9c6448b",
   "metadata": {},
   "outputs": [
    {
     "data": {
      "image/png": "[encoded data removed]",
      "text/plain": [
       "<Figure size 432x288 with 1 Axes>"
      ]
     },
     "metadata": {
      "needs_background": "light"
     },
     "output_type": "display_data"
    },
    {
     "data": {
      "image/png": "[encoded data removed]",
      "text/plain": [
       "<Figure size 432x288 with 1 Axes>"
      ]
     },
     "metadata": {
      "needs_background": "light"
     },
     "output_type": "display_data"
    }
   ],
   "source": [
    "import matplotlib.pyplot as plt\n",
    "acc = history.history['acc']\n",
    "val_acc = history.history['val_acc']\n",
    "loss = history.history['loss']\n",
    "val_loss = history.history['val_loss']\n",
    "epochs = range(1, len(acc) + 1)\n",
    "plt.plot(epochs, acc, 'bo', label='Training acc')\n",
    "plt.plot(epochs, val_acc, 'b', label='Validation acc')\n",
    "plt.title('Training and validation accuracy')\n",
    "plt.legend()\n",
    "plt.figure()\n",
    "plt.plot(epochs, loss, 'bo', label='Training loss')\n",
    "plt.plot(epochs, val_loss, 'b', label='Validation loss')\n",
    "plt.title('Training and validation loss')\n",
    "plt.legend()\n",
    "plt.show()"
   ]
  },
  {
   "cell_type": "code",
   "execution_count": null,
   "id": "bd565acf",
   "metadata": {},
   "outputs": [],
   "source": []
  },
  {
   "cell_type": "code",
   "execution_count": null,
   "id": "3e1c18f8",
   "metadata": {},
   "outputs": [],
   "source": []
  },
  {
   "cell_type": "code",
   "execution_count": null,
   "id": "adc1c183",
   "metadata": {},
   "outputs": [],
   "source": []
  }
 ],
 "metadata": {
  "kernelspec": {
   "display_name": "Python 3",
   "language": "python",
   "name": "python3"
  },
  "language_info": {
   "codemirror_mode": {
    "name": "ipython",
    "version": 3
   },
   "file_extension": ".py",
   "mimetype": "text/x-python",
   "name": "python",
   "nbconvert_exporter": "python",
   "pygments_lexer": "ipython3",
   "version": "3.8.8"
  }
 },
 "nbformat": 4,
 "nbformat_minor": 5
}
