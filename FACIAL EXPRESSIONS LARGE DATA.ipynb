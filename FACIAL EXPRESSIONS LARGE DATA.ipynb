{
 "cells": [
  {
   "cell_type": "code",
   "execution_count": 1,
   "id": "d4e0d03f",
   "metadata": {},
   "outputs": [],
   "source": [
    "import os, shutil"
   ]
  },
  {
   "cell_type": "code",
   "execution_count": 2,
   "id": "c446c3fd",
   "metadata": {},
   "outputs": [],
   "source": [
    "original_dataset_dir = 'C:/Users/Muhammad Ansar/images'\n",
    "base_dir = 'C:/Users/Muhammad Ansar/happy sad small'\n",
    "os.mkdir(base_dir)\n",
    "train_dir = os.path.join(base_dir, 'train')\n",
    "os.mkdir(train_dir)\n",
    "validation_dir = os.path.join(base_dir, 'validation')\n",
    "os.mkdir(validation_dir)\n",
    "test_dir = os.path.join(base_dir, 'test')\n",
    "os.mkdir(test_dir)    "
   ]
  },
  {
   "cell_type": "markdown",
   "id": "a016f131",
   "metadata": {},
   "source": [
    "# TRAIN DIRECTORY"
   ]
  },
  {
   "cell_type": "code",
   "execution_count": 3,
   "id": "f1266fff",
   "metadata": {},
   "outputs": [],
   "source": [
    "train_angry_dir = os.path.join(train_dir, 'angry')\n",
    "os.mkdir(train_angry_dir)\n",
    "train_fear_dir = os.path.join(train_dir, 'fear')\n",
    "os.mkdir(train_fear_dir)\n",
    "train_happy_dir = os.path.join(train_dir, 'happy')\n",
    "os.mkdir(train_happy_dir)\n",
    "train_surprise_dir = os.path.join(train_dir, 'surprise')\n",
    "os.mkdir(train_surprise_dir)\n",
    "train_sad_dir = os.path.join(train_dir, 'sad')\n",
    "os.mkdir(train_sad_dir)\n",
    "train_neutral_dir = os.path.join(train_dir, 'neutral')\n",
    "os.mkdir(train_neutral_dir)"
   ]
  },
  {
   "cell_type": "markdown",
   "id": "6aa91c49",
   "metadata": {},
   "source": [
    "# TEST DIRECTORY"
   ]
  },
  {
   "cell_type": "code",
   "execution_count": 4,
   "id": "29d339f4",
   "metadata": {},
   "outputs": [],
   "source": [
    "test_angry_dir = os.path.join(test_dir, 'angry')\n",
    "os.mkdir(test_angry_dir)\n",
    "test_fear_dir = os.path.join(test_dir, 'fear')\n",
    "os.mkdir(test_fear_dir)\n",
    "test_happy_dir = os.path.join(test_dir, 'happy')\n",
    "os.mkdir(test_happy_dir)\n",
    "test_neutral_dir = os.path.join(test_dir, 'neutral')\n",
    "os.mkdir(test_neutral_dir)\n",
    "test_sad_dir = os.path.join(test_dir, 'sad')\n",
    "os.mkdir(test_sad_dir)\n",
    "test_surprise_dir = os.path.join(test_dir, 'surprise')\n",
    "os.mkdir(test_surprise_dir)"
   ]
  },
  {
   "cell_type": "markdown",
   "id": "61d4047a",
   "metadata": {},
   "source": [
    "# VALIDATION DIRECTORY"
   ]
  },
  {
   "cell_type": "code",
   "execution_count": null,
   "id": "528154d2",
   "metadata": {},
   "outputs": [],
   "source": [
    "validation_angry_dir = os.path.join(validation_dir, 'angry')\n",
    "os.mkdir(validation_angry_dir)\n",
    "validation_fear_dir = os.path.join(validation_dir, 'fear')\n",
    "os.mkdir(validation_fear_dir)\n",
    "validation_happy_dir = os.path.join(validation_dir, 'happy')\n",
    "os.mkdir(validation_happy_dir)\n",
    "validation_neutral_dir = os.path.join(validation_dir, 'neutral')\n",
    "os.mkdir(validation_neutral_dir)\n",
    "validation_sad_dir = os.path.join(validation_dir, 'sad')\n",
    "os.mkdir(validation_sad_dir)\n",
    "validation_surprise_dir = os.path.join(validation_dir, 'surprise')\n",
    "os.mkdir(validation_surprise_dir)\n"
   ]
  },
  {
   "cell_type": "markdown",
   "id": "a0cf7738",
   "metadata": {},
   "source": [
    "# RENAMING PICTURES\n"
   ]
  },
  {
   "cell_type": "markdown",
   "id": "14bc4af8",
   "metadata": {},
   "source": [
    "## ANGRY"
   ]
  },
  {
   "cell_type": "code",
   "execution_count": null,
   "id": "10c5ceb4",
   "metadata": {},
   "outputs": [],
   "source": [
    "import os\n",
    " \n",
    "# Function to rename multiple files\n",
    "def main():\n",
    "   \n",
    "    folder = 'C:/Users/Muhammad Ansar/images/train/angry'\n",
    "    for count, filename in enumerate(os.listdir(folder)):\n",
    "        dst = f\"{str(count)}.jpg\"\n",
    "        src =f\"{folder}/{filename}\"  # foldername/filename, if .py file is outside folder\n",
    "        dst =f\"{folder}/{dst}\"\n",
    "         \n",
    "        # rename() function will\n",
    "        # rename all the files\n",
    "        os.rename(src, dst)\n",
    " \n",
    "# Driver Code\n",
    "if __name__ == '__main__':\n",
    "     \n",
    "    # Calling main() function\n",
    "    main()\n"
   ]
  },
  {
   "cell_type": "markdown",
   "id": "9e64ee67",
   "metadata": {},
   "source": [
    "## FEAR"
   ]
  },
  {
   "cell_type": "code",
   "execution_count": null,
   "id": "ec893866",
   "metadata": {},
   "outputs": [],
   "source": [
    "import os\n",
    " \n",
    "# Function to rename multiple files\n",
    "def main():\n",
    "   \n",
    "    folder = \"C:/Users/Muhammad Ansar/images/train/fear\"\n",
    "    for count, filename in enumerate(os.listdir(folder)):\n",
    "        dst = f\"{str(count)}.jpg\"\n",
    "        src =f\"{folder}/{filename}\"  # foldername/filename, if .py file is outside folder\n",
    "        dst =f\"{folder}/{dst}\"\n",
    "         \n",
    "        # rename() function will\n",
    "        # rename all the files\n",
    "        os.rename(src, dst)\n",
    " \n",
    "# Driver Code\n",
    "if __name__ == '__main__':\n",
    "     \n",
    "    # Calling main() function\n",
    "    main()"
   ]
  },
  {
   "cell_type": "markdown",
   "id": "fc9a757a",
   "metadata": {},
   "source": [
    "## HAPPY"
   ]
  },
  {
   "cell_type": "code",
   "execution_count": null,
   "id": "5d729b08",
   "metadata": {},
   "outputs": [],
   "source": [
    "import os\n",
    " \n",
    "# Function to rename multiple files\n",
    "def main():\n",
    "   \n",
    "    folder = \"C:/Users/Muhammad Ansar/images/train/happy\"\n",
    "    for count, filename in enumerate(os.listdir(folder)):\n",
    "        dst = f\"{str(count)}.jpg\"\n",
    "        src =f\"{folder}/{filename}\"  # foldername/filename, if .py file is outside folder\n",
    "        dst =f\"{folder}/{dst}\"\n",
    "         \n",
    "        # rename() function will\n",
    "        # rename all the files\n",
    "        os.rename(src, dst)\n",
    " \n",
    "# Driver Code\n",
    "if __name__ == '__main__':\n",
    "     \n",
    "    # Calling main() function\n",
    "    main()"
   ]
  },
  {
   "cell_type": "markdown",
   "id": "9a937b1e",
   "metadata": {},
   "source": [
    "## NEUTRAL"
   ]
  },
  {
   "cell_type": "code",
   "execution_count": null,
   "id": "6b87f12b",
   "metadata": {},
   "outputs": [],
   "source": [
    "import os\n",
    " \n",
    "# Function to rename multiple files\n",
    "def main():\n",
    "   \n",
    "    folder = \"C:/Users/Muhammad Ansar/images/train/neutral\"\n",
    "    for count, filename in enumerate(os.listdir(folder)):\n",
    "        dst = f\"{str(count)}.jpg\"\n",
    "        src =f\"{folder}/{filename}\"  # foldername/filename, if .py file is outside folder\n",
    "        dst =f\"{folder}/{dst}\"\n",
    "         \n",
    "        # rename() function will\n",
    "        # rename all the files\n",
    "        os.rename(src, dst)\n",
    " \n",
    "# Driver Code\n",
    "if __name__ == '__main__':\n",
    "     \n",
    "    # Calling main() function\n",
    "    main()"
   ]
  },
  {
   "cell_type": "markdown",
   "id": "25c73e13",
   "metadata": {},
   "source": [
    "## SAD"
   ]
  },
  {
   "cell_type": "code",
   "execution_count": null,
   "id": "57caf094",
   "metadata": {},
   "outputs": [],
   "source": [
    "import os\n",
    " \n",
    "# Function to rename multiple files\n",
    "def main():\n",
    "   \n",
    "    folder = \"C:/Users/Muhammad Ansar/images/train/sad\"\n",
    "    for count, filename in enumerate(os.listdir(folder)):\n",
    "        dst = f\"{str(count)}.jpg\"\n",
    "        src =f\"{folder}/{filename}\"  # foldername/filename, if .py file is outside folder\n",
    "        dst =f\"{folder}/{dst}\"\n",
    "         \n",
    "        # rename() function will\n",
    "        # rename all the files\n",
    "        os.rename(src, dst)\n",
    " \n",
    "# Driver Code\n",
    "if __name__ == '__main__':\n",
    "     \n",
    "    # Calling main() function\n",
    "    main()"
   ]
  },
  {
   "cell_type": "markdown",
   "id": "43705f75",
   "metadata": {},
   "source": [
    "## SURPRISE\n"
   ]
  },
  {
   "cell_type": "code",
   "execution_count": null,
   "id": "8500923c",
   "metadata": {},
   "outputs": [],
   "source": [
    "import os\n",
    " \n",
    "# Function to rename multiple files\n",
    "def main():\n",
    "   \n",
    "    folder = \"C:/Users/Muhammad Ansar/images/train/surprise\"\n",
    "    for count, filename in enumerate(os.listdir(folder)):\n",
    "        dst = f\"{str(count)}.jpg\"\n",
    "        src =f\"{folder}/{filename}\"  # foldername/filename, if .py file is outside folder\n",
    "        dst =f\"{folder}/{dst}\"\n",
    "         \n",
    "        # rename() function will\n",
    "        # rename all the files\n",
    "        os.rename(src, dst)\n",
    " \n",
    "# Driver Code\n",
    "if __name__ == '__main__':\n",
    "     \n",
    "    # Calling main() function\n",
    "    main()"
   ]
  },
  {
   "cell_type": "markdown",
   "id": "6658e827",
   "metadata": {},
   "source": [
    "# copying images from the dataset"
   ]
  },
  {
   "cell_type": "code",
   "execution_count": null,
   "id": "f68310fd",
   "metadata": {},
   "outputs": [],
   "source": [
    "# TRAINING"
   ]
  },
  {
   "cell_type": "code",
   "execution_count": null,
   "id": "a62d20dc",
   "metadata": {},
   "outputs": [],
   "source": [
    "original_dataset_dir = 'C:/Users/Muhammad Ansar/images/train/angry'\n",
    "fnames = ['{}.jpg'.format(i) for i in range(len(os.listdir(original_dataset_dir)))]\n",
    "for fname in fnames:\n",
    "    src = os.path.join(original_dataset_dir, fname)\n",
    "    dst = os.path.join(train_angry_dir, fname)\n",
    "    shutil.copyfile(src, dst)"
   ]
  },
  {
   "cell_type": "code",
   "execution_count": null,
   "id": "1d4bd037",
   "metadata": {},
   "outputs": [],
   "source": [
    "len(os.listdir(original_dataset_dir)) # dir is your directory path\n"
   ]
  },
  {
   "cell_type": "code",
   "execution_count": null,
   "id": "8bd25279",
   "metadata": {},
   "outputs": [],
   "source": [
    "original_dataset_dir = 'C:/Users/Muhammad Ansar/images/train/fear'\n",
    "fnames = ['{}.jpg'.format(i) for i in range(len(os.listdir(original_dataset_dir)))]\n",
    "for fname in fnames:\n",
    "    src = os.path.join(original_dataset_dir, fname)\n",
    "    dst = os.path.join(train_fear_dir, fname)\n",
    "    shutil.copyfile(src, dst)"
   ]
  },
  {
   "cell_type": "code",
   "execution_count": null,
   "id": "c30d2a68",
   "metadata": {},
   "outputs": [],
   "source": [
    "original_dataset_dir = 'C:/Users/Muhammad Ansar/images/train/sad'\n",
    "fnames = ['{}.jpg'.format(i) for i in range(len(os.listdir(original_dataset_dir)))]\n",
    "for fname in fnames:\n",
    "    src = os.path.join(original_dataset_dir, fname)\n",
    "    dst = os.path.join(train_sad_dir, fname)\n",
    "    shutil.copyfile(src, dst)"
   ]
  },
  {
   "cell_type": "code",
   "execution_count": null,
   "id": "7992e69c",
   "metadata": {},
   "outputs": [],
   "source": [
    "original_dataset_dir = 'C:/Users/Muhammad Ansar/images/train/surprise'\n",
    "fnames = ['{}.jpg'.format(i) for i in range(len(os.listdir(original_dataset_dir)))]\n",
    "for fname in fnames:\n",
    "    src = os.path.join(original_dataset_dir, fname)\n",
    "    dst = os.path.join(train_surprise_dir, fname)\n",
    "    shutil.copyfile(src, dst)"
   ]
  },
  {
   "cell_type": "code",
   "execution_count": null,
   "id": "126b39f1",
   "metadata": {},
   "outputs": [],
   "source": [
    "original_dataset_dir = 'C:/Users/Muhammad Ansar/images/train/neutral'\n",
    "fnames = ['{}.jpg'.format(i) for i in range(len(os.listdir(original_dataset_dir)))]\n",
    "for fname in fnames:\n",
    "    src = os.path.join(original_dataset_dir, fname)\n",
    "    dst = os.path.join(train_neutral_dir, fname)\n",
    "    shutil.copyfile(src, dst)"
   ]
  },
  {
   "cell_type": "code",
   "execution_count": null,
   "id": "704fb968",
   "metadata": {},
   "outputs": [],
   "source": [
    "original_dataset_dir = 'C:/Users/Muhammad Ansar/images/train/happy'\n",
    "fnames = ['{}.jpg'.format(i) for i in range(len(os.listdir(original_dataset_dir)))]\n",
    "for fname in fnames:\n",
    "    src = os.path.join(original_dataset_dir, fname)\n",
    "    dst = os.path.join(train_happy_dir, fname)\n",
    "    shutil.copyfile(src, dst)"
   ]
  },
  {
   "cell_type": "code",
   "execution_count": null,
   "id": "b135357a",
   "metadata": {},
   "outputs": [],
   "source": [
    "#VALIDATION"
   ]
  },
  {
   "cell_type": "code",
   "execution_count": null,
   "id": "4135d332",
   "metadata": {},
   "outputs": [],
   "source": [
    "from keras import layers\n",
    "from keras import models\n",
    "model = models.Sequential()\n",
    "model.add(layers.Conv2D(32, (3, 3), activation='relu',\n",
    "input_shape=(150, 150, 3)))\n",
    "model.add(layers.MaxPooling2D((2, 2)))\n",
    "model.add(layers.Conv2D(64, (3, 3), activation='relu'))\n",
    "model.add(layers.MaxPooling2D((2, 2)))\n",
    "model.add(layers.Conv2D(128, (3, 3), activation='relu'))\n",
    "model.add(layers.MaxPooling2D((2, 2)))\n",
    "model.add(layers.Conv2D(128, (3, 3), activation='relu'))\n",
    "model.add(layers.MaxPooling2D((2, 2)))\n",
    "model.add(layers.Flatten())\n",
    "model.add(layers.Dense(512, activation='relu'))\n",
    "model.add(layers.Dense(1, activation='softmax'))"
   ]
  },
  {
   "cell_type": "code",
   "execution_count": 16,
   "id": "58f51f55",
   "metadata": {},
   "outputs": [
    {
     "name": "stdout",
     "output_type": "stream",
     "text": [
      "Model: \"sequential_1\"\n",
      "_________________________________________________________________\n",
      "Layer (type)                 Output Shape              Param #   \n",
      "=================================================================\n",
      "conv2d_4 (Conv2D)            (None, 148, 148, 32)      896       \n",
      "_________________________________________________________________\n",
      "max_pooling2d_4 (MaxPooling2 (None, 74, 74, 32)        0         \n",
      "_________________________________________________________________\n",
      "conv2d_5 (Conv2D)            (None, 72, 72, 64)        18496     \n",
      "_________________________________________________________________\n",
      "max_pooling2d_5 (MaxPooling2 (None, 36, 36, 64)        0         \n",
      "_________________________________________________________________\n",
      "conv2d_6 (Conv2D)            (None, 34, 34, 128)       73856     \n",
      "_________________________________________________________________\n",
      "max_pooling2d_6 (MaxPooling2 (None, 17, 17, 128)       0         \n",
      "_________________________________________________________________\n",
      "conv2d_7 (Conv2D)            (None, 15, 15, 128)       147584    \n",
      "_________________________________________________________________\n",
      "max_pooling2d_7 (MaxPooling2 (None, 7, 7, 128)         0         \n",
      "_________________________________________________________________\n",
      "flatten_1 (Flatten)          (None, 6272)              0         \n",
      "_________________________________________________________________\n",
      "dense_2 (Dense)              (None, 512)               3211776   \n",
      "_________________________________________________________________\n",
      "dense_3 (Dense)              (None, 1)                 513       \n",
      "=================================================================\n",
      "Total params: 3,453,121\n",
      "Trainable params: 3,453,121\n",
      "Non-trainable params: 0\n",
      "_________________________________________________________________\n"
     ]
    }
   ],
   "source": [
    "model.summary()"
   ]
  },
  {
   "cell_type": "code",
   "execution_count": 5,
   "id": "6b15c1f2",
   "metadata": {},
   "outputs": [
    {
     "ename": "NameError",
     "evalue": "name 'model' is not defined",
     "output_type": "error",
     "traceback": [
      "\u001b[1;31m---------------------------------------------------------------------------\u001b[0m",
      "\u001b[1;31mNameError\u001b[0m                                 Traceback (most recent call last)",
      "\u001b[1;32m<ipython-input-5-238b81acd43a>\u001b[0m in \u001b[0;36m<module>\u001b[1;34m\u001b[0m\n\u001b[0;32m      1\u001b[0m \u001b[1;32mfrom\u001b[0m \u001b[0mkeras\u001b[0m \u001b[1;32mimport\u001b[0m \u001b[0moptimizers\u001b[0m\u001b[1;33m\u001b[0m\u001b[1;33m\u001b[0m\u001b[0m\n\u001b[1;32m----> 2\u001b[1;33m \u001b[0mmodel\u001b[0m\u001b[1;33m.\u001b[0m\u001b[0mcompile\u001b[0m\u001b[1;33m(\u001b[0m\u001b[0mloss\u001b[0m\u001b[1;33m=\u001b[0m\u001b[1;34m'categorical_crossentropy'\u001b[0m\u001b[1;33m,\u001b[0m\u001b[0moptimizer\u001b[0m\u001b[1;33m=\u001b[0m\u001b[0moptimizers\u001b[0m\u001b[1;33m.\u001b[0m\u001b[0mRMSprop\u001b[0m\u001b[1;33m(\u001b[0m\u001b[0mlr\u001b[0m\u001b[1;33m=\u001b[0m\u001b[1;36m1e-4\u001b[0m\u001b[1;33m)\u001b[0m\u001b[1;33m,\u001b[0m\u001b[0mmetrics\u001b[0m\u001b[1;33m=\u001b[0m\u001b[1;33m[\u001b[0m\u001b[1;34m'acc'\u001b[0m\u001b[1;33m]\u001b[0m\u001b[1;33m)\u001b[0m\u001b[1;33m\u001b[0m\u001b[1;33m\u001b[0m\u001b[0m\n\u001b[0m",
      "\u001b[1;31mNameError\u001b[0m: name 'model' is not defined"
     ]
    }
   ],
   "source": [
    "from keras import optimizers\n",
    "model.compile(loss='categorical_crossentropy',optimizer=optimizers.RMSprop(lr=1e-4),metrics=['acc'])"
   ]
  },
  {
   "cell_type": "code",
   "execution_count": 3,
   "id": "051d96aa",
   "metadata": {},
   "outputs": [],
   "source": [
    "from keras.preprocessing.image import ImageDataGenerator\n",
    "train_datagen = ImageDataGenerator(rescale=1./255)\n",
    "test_datagen = ImageDataGenerator(rescale=1./255)"
   ]
  },
  {
   "cell_type": "code",
   "execution_count": 33,
   "id": "6079b48b",
   "metadata": {},
   "outputs": [
    {
     "name": "stdout",
     "output_type": "stream",
     "text": [
      "Found 28385 images belonging to 6 classes.\n"
     ]
    }
   ],
   "source": [
    "train_dir = \"C:/Users/Muhammad Ansar/images/train\"\n",
    "train_generator = train_datagen.flow_from_directory(train_dir,target_size=(150, 150),\n",
    "batch_size=20,\n",
    "class_mode='categorical')"
   ]
  },
  {
   "cell_type": "code",
   "execution_count": 34,
   "id": "a45678fa",
   "metadata": {},
   "outputs": [
    {
     "name": "stdout",
     "output_type": "stream",
     "text": [
      "Found 3000 images belonging to 6 classes.\n"
     ]
    }
   ],
   "source": [
    "validation_dir = \"C:/Users/Muhammad Ansar/small data/validation\"\n",
    "validation_generator = test_datagen.flow_from_directory(\n",
    "validation_dir,\n",
    "target_size=(150, 150),\n",
    "batch_size=70,\n",
    "class_mode='categorical')"
   ]
  },
  {
   "cell_type": "code",
   "execution_count": 24,
   "id": "a64407dd",
   "metadata": {},
   "outputs": [
    {
     "name": "stdout",
     "output_type": "stream",
     "text": [
      "data batch shape: (20, 150, 150, 3)\n",
      "labels batch shape: (20, 7)\n"
     ]
    }
   ],
   "source": [
    "for data_batch, labels_batch in train_generator:\n",
    "    print('data batch shape:', data_batch.shape)\n",
    "    print('labels batch shape:', labels_batch.shape)\n",
    "    break"
   ]
  },
  {
   "cell_type": "code",
   "execution_count": 25,
   "id": "e9504638",
   "metadata": {},
   "outputs": [
    {
     "name": "stdout",
     "output_type": "stream",
     "text": [
      "Epoch 1/30\n",
      "100/100 [==============================] - 184s 2s/step - loss: 1.8413 - acc: 0.8571 - val_loss: 1.8391 - val_acc: 0.8571\n",
      "Epoch 2/30\n",
      "100/100 [==============================] - 149s 1s/step - loss: 1.8418 - acc: 0.8571 - val_loss: 1.8198 - val_acc: 0.8571\n",
      "Epoch 3/30\n",
      "100/100 [==============================] - 138s 1s/step - loss: 1.8236 - acc: 0.8571 - val_loss: 1.8149 - val_acc: 0.8571\n",
      "Epoch 4/30\n",
      "100/100 [==============================] - 137s 1s/step - loss: 1.8391 - acc: 0.8571 - val_loss: 1.8085 - val_acc: 0.8571\n",
      "Epoch 5/30\n",
      "100/100 [==============================] - 136s 1s/step - loss: 1.8199 - acc: 0.8571 - val_loss: 1.8030 - val_acc: 0.8571\n",
      "Epoch 6/30\n",
      "100/100 [==============================] - 136s 1s/step - loss: 1.7539 - acc: 0.8574 - val_loss: 1.8164 - val_acc: 0.8566\n",
      "Epoch 7/30\n",
      "100/100 [==============================] - 136s 1s/step - loss: 1.7555 - acc: 0.8565 - val_loss: 1.7463 - val_acc: 0.8571\n",
      "Epoch 8/30\n",
      "100/100 [==============================] - 136s 1s/step - loss: 1.7183 - acc: 0.8579 - val_loss: 1.7103 - val_acc: 0.8585\n",
      "Epoch 9/30\n",
      "100/100 [==============================] - 136s 1s/step - loss: 1.7019 - acc: 0.8595 - val_loss: 1.6755 - val_acc: 0.8613\n",
      "Epoch 10/30\n",
      "100/100 [==============================] - 136s 1s/step - loss: 1.6665 - acc: 0.8627 - val_loss: 1.6927 - val_acc: 0.8601\n",
      "Epoch 11/30\n",
      "100/100 [==============================] - 136s 1s/step - loss: 1.6931 - acc: 0.8617 - val_loss: 1.6424 - val_acc: 0.8628\n",
      "Epoch 12/30\n",
      "100/100 [==============================] - 136s 1s/step - loss: 1.6567 - acc: 0.8636 - val_loss: 1.6517 - val_acc: 0.8650\n",
      "Epoch 13/30\n",
      "100/100 [==============================] - 135s 1s/step - loss: 1.6066 - acc: 0.8671 - val_loss: 1.6336 - val_acc: 0.8654\n",
      "Epoch 14/30\n",
      "100/100 [==============================] - 2694s 27s/step - loss: 1.6103 - acc: 0.8650 - val_loss: 1.6052 - val_acc: 0.8661\n",
      "Epoch 15/30\n",
      "100/100 [==============================] - 160s 2s/step - loss: 1.5992 - acc: 0.8670 - val_loss: 1.5892 - val_acc: 0.8667\n",
      "Epoch 16/30\n",
      "100/100 [==============================] - 152s 2s/step - loss: 1.5755 - acc: 0.8687 - val_loss: 1.5937 - val_acc: 0.8684\n",
      "Epoch 17/30\n",
      "100/100 [==============================] - 149s 1s/step - loss: 1.5416 - acc: 0.8701 - val_loss: 1.5930 - val_acc: 0.8656\n",
      "Epoch 18/30\n",
      "100/100 [==============================] - 149s 1s/step - loss: 1.5704 - acc: 0.8673 - val_loss: 1.5794 - val_acc: 0.8686\n",
      "Epoch 19/30\n",
      "100/100 [==============================] - 149s 1s/step - loss: 1.5598 - acc: 0.8681 - val_loss: 1.5709 - val_acc: 0.8680\n",
      "Epoch 20/30\n",
      "100/100 [==============================] - 150s 2s/step - loss: 1.5470 - acc: 0.8701 - val_loss: 1.5500 - val_acc: 0.8696\n",
      "Epoch 21/30\n",
      "100/100 [==============================] - 146s 1s/step - loss: 1.5295 - acc: 0.8689 - val_loss: 1.5296 - val_acc: 0.8707\n",
      "Epoch 22/30\n",
      "100/100 [==============================] - 146s 1s/step - loss: 1.5292 - acc: 0.8708 - val_loss: 1.5195 - val_acc: 0.8715\n",
      "Epoch 23/30\n",
      "100/100 [==============================] - 147s 1s/step - loss: 1.5222 - acc: 0.8704 - val_loss: 1.4860 - val_acc: 0.8730\n",
      "Epoch 24/30\n",
      "100/100 [==============================] - 152s 2s/step - loss: 1.4862 - acc: 0.8721 - val_loss: 1.5054 - val_acc: 0.8716\n",
      "Epoch 25/30\n",
      "100/100 [==============================] - 150s 2s/step - loss: 1.4720 - acc: 0.8751 - val_loss: 1.5002 - val_acc: 0.8707\n",
      "Epoch 26/30\n",
      "100/100 [==============================] - 155s 2s/step - loss: 1.4606 - acc: 0.8756 - val_loss: 1.4927 - val_acc: 0.8725\n",
      "Epoch 27/30\n",
      "100/100 [==============================] - 153s 2s/step - loss: 1.4568 - acc: 0.8748 - val_loss: 1.4832 - val_acc: 0.8720\n",
      "Epoch 28/30\n",
      "100/100 [==============================] - 156s 2s/step - loss: 1.4493 - acc: 0.8746 - val_loss: 1.4870 - val_acc: 0.8742\n",
      "Epoch 29/30\n",
      "100/100 [==============================] - 156s 2s/step - loss: 1.4300 - acc: 0.8744 - val_loss: 1.4695 - val_acc: 0.8760\n",
      "Epoch 30/30\n",
      "100/100 [==============================] - 157s 2s/step - loss: 1.4516 - acc: 0.8744 - val_loss: 1.4555 - val_acc: 0.8741\n"
     ]
    }
   ],
   "source": [
    "history = model.fit_generator(\n",
    "train_generator,\n",
    "steps_per_epoch=100,\n",
    "epochs=30,\n",
    "validation_data=validation_generator,\n",
    "validation_steps=50)"
   ]
  },
  {
   "cell_type": "code",
   "execution_count": 26,
   "id": "b47cd143",
   "metadata": {},
   "outputs": [],
   "source": [
    "model.save('facial_expressions_small_1.h5')"
   ]
  },
  {
   "cell_type": "code",
   "execution_count": 27,
   "id": "73f121e9",
   "metadata": {},
   "outputs": [
    {
     "data": {
      "image/png": "[encoded data removed]",
      "text/plain": [
       "<Figure size 432x288 with 1 Axes>"
      ]
     },
     "metadata": {
      "needs_background": "light"
     },
     "output_type": "display_data"
    },
    {
     "data": {
      "image/png": "[encoded data removed]",
      "text/plain": [
       "<Figure size 432x288 with 1 Axes>"
      ]
     },
     "metadata": {
      "needs_background": "light"
     },
     "output_type": "display_data"
    }
   ],
   "source": [
    "import matplotlib.pyplot as plt\n",
    "acc = history.history['acc']\n",
    "val_acc = history.history['val_acc']\n",
    "loss = history.history['loss']\n",
    "val_loss = history.history['val_loss']\n",
    "epochs = range(1, len(acc) + 1)\n",
    "plt.plot(epochs, acc, 'bo', label='Training acc')\n",
    "plt.plot(epochs, val_acc, 'b', label='Validation acc')\n",
    "plt.title('Training and validation accuracy')\n",
    "plt.legend()\n",
    "plt.figure()\n",
    "plt.plot(epochs, loss, 'bo', label='Training loss')\n",
    "plt.plot(epochs, val_loss, 'b', label='Validation loss')\n",
    "plt.title('Training and validation loss')\n",
    "plt.legend()\n",
    "plt.show()"
   ]
  },
  {
   "cell_type": "code",
   "execution_count": 7,
   "id": "c21e9fc3",
   "metadata": {},
   "outputs": [],
   "source": [
    "\n",
    "datagen = ImageDataGenerator(\n",
    "rotation_range=40,\n",
    "width_shift_range=0.2,\n",
    "height_shift_range=0.2,\n",
    "shear_range=0.2,\n",
    "zoom_range=0.2,\n",
    "horizontal_flip=True,\n",
    "fill_mode='nearest')"
   ]
  },
  {
   "cell_type": "code",
   "execution_count": 9,
   "id": "4f6d8405",
   "metadata": {},
   "outputs": [],
   "source": [
    "from keras import layers\n",
    "from keras import models\n",
    "model = models.Sequential()\n",
    "model.add(layers.Conv2D(32, (3, 3), activation='relu',\n",
    "input_shape=(150, 150, 3)))\n",
    "model.add(layers.MaxPooling2D((2, 2)))\n",
    "model.add(layers.Conv2D(64, (3, 3), activation='relu'))\n",
    "model.add(layers.MaxPooling2D((2, 2)))\n",
    "model.add(layers.Conv2D(128, (3, 3), activation='relu'))\n",
    "model.add(layers.MaxPooling2D((2, 2)))\n",
    "model.add(layers.Conv2D(128, (3, 3), activation='relu'))\n",
    "model.add(layers.MaxPooling2D((2, 2)))\n",
    "model.add(layers.Flatten())\n",
    "model.add(layers.Dropout(0.5))\n",
    "model.add(layers.Dense(512, activation='relu'))\n",
    "model.add(layers.Dense(1, activation='softmax'))\n",
    "model.compile(loss='categorical_crossentropy',\n",
    "optimizer=optimizers.RMSprop(lr=1e-4),\n",
    "metrics=['acc'])"
   ]
  },
  {
   "cell_type": "code",
   "execution_count": 10,
   "id": "7e6b76b0",
   "metadata": {},
   "outputs": [],
   "source": [
    "train_datagen = ImageDataGenerator(\n",
    "rescale=1./255,\n",
    "rotation_range=40,\n",
    "width_shift_range=0.2,\n",
    "height_shift_range=0.2,\n",
    "shear_range=0.2,\n",
    "zoom_range=0.2,\n",
    "horizontal_flip=True,)\n",
    "test_datagen = ImageDataGenerator(rescale=1./255)"
   ]
  },
  {
   "cell_type": "code",
   "execution_count": 26,
   "id": "5a08fa52",
   "metadata": {},
   "outputs": [
    {
     "name": "stdout",
     "output_type": "stream",
     "text": [
      "Found 28385 images belonging to 6 classes.\n"
     ]
    }
   ],
   "source": [
    "train_dir = \"C:/Users/Muhammad Ansar/images/train\"\n",
    "train_generator = train_datagen.flow_from_directory(\n",
    "train_dir,\n",
    "target_size=(150, 150),\n",
    "batch_size=30,\n",
    "class_mode='categorical')"
   ]
  },
  {
   "cell_type": "code",
   "execution_count": 27,
   "id": "4615081f",
   "metadata": {},
   "outputs": [
    {
     "name": "stdout",
     "output_type": "stream",
     "text": [
      "Found 6955 images belonging to 6 classes.\n"
     ]
    }
   ],
   "source": [
    "validation_dir = \"C:/Users/Muhammad Ansar/images/validation\"\n",
    "validation_generator = test_datagen.flow_from_directory(\n",
    "validation_dir,\n",
    "target_size=(150, 150),\n",
    "batch_size=30,\n",
    "class_mode='categorical')"
   ]
  },
  {
   "cell_type": "code",
   "execution_count": null,
   "id": "169fbe4c",
   "metadata": {},
   "outputs": [
    {
     "name": "stdout",
     "output_type": "stream",
     "text": [
      "Epoch 1/30\n",
      "100/100 [==============================] - 205s 2s/step - loss: 1.7578 - acc: 0.8333 - val_loss: 1.7614 - val_acc: 0.8333\n",
      "Epoch 2/30\n",
      "100/100 [==============================] - 217s 2s/step - loss: 1.7457 - acc: 0.8333 - val_loss: 1.7237 - val_acc: 0.8333\n",
      "Epoch 3/30\n",
      "100/100 [==============================] - 216s 2s/step - loss: 1.7526 - acc: 0.8333 - val_loss: 1.7424 - val_acc: 0.8333\n",
      "Epoch 4/30\n",
      "100/100 [==============================] - 223s 2s/step - loss: 1.7494 - acc: 0.8333 - val_loss: 1.7460 - val_acc: 0.8333\n",
      "Epoch 5/30\n",
      "100/100 [==============================] - 346s 3s/step - loss: 1.7523 - acc: 0.8333 - val_loss: 1.7287 - val_acc: 0.8333\n",
      "Epoch 6/30\n",
      " 38/100 [==========>...................] - ETA: 3:07 - loss: 1.7373 - acc: 0.8333"
     ]
    }
   ],
   "source": [
    "history = model.fit_generator(train_generator,steps_per_epoch=100,epochs=30,validation_data=validation_generator,\n",
    "validation_steps=50)"
   ]
  },
  {
   "cell_type": "code",
   "execution_count": null,
   "id": "711484cf",
   "metadata": {},
   "outputs": [],
   "source": [
    "model.save('cats_and_dogs_small_2.h5')"
   ]
  },
  {
   "cell_type": "code",
   "execution_count": null,
   "id": "43e61f9c",
   "metadata": {},
   "outputs": [],
   "source": [
    "import matplotlib.pyplot as plt\n",
    "acc = history.history['acc']\n",
    "val_acc = history.history['val_acc']\n",
    "loss = history.history['loss']\n",
    "val_loss = history.history['val_loss']\n",
    "epochs = range(1, len(acc) + 1)\n",
    "plt.plot(epochs, acc, 'bo', label='Training acc')\n",
    "plt.plot(epochs, val_acc, 'b', label='Validation acc')\n",
    "plt.title('Training and validation accuracy')\n",
    "plt.legend()\n",
    "plt.figure()\n",
    "plt.plot(epochs, loss, 'bo', label='Training loss')\n",
    "plt.plot(epochs, val_loss, 'b', label='Validation loss')\n",
    "plt.title('Training and validation loss')\n",
    "plt.legend()\n",
    "plt.show()"
   ]
  },
  {
   "cell_type": "code",
   "execution_count": null,
   "id": "05184a42",
   "metadata": {},
   "outputs": [],
   "source": []
  }
 ],
 "metadata": {
  "kernelspec": {
   "display_name": "Python 3",
   "language": "python",
   "name": "python3"
  },
  "language_info": {
   "codemirror_mode": {
    "name": "ipython",
    "version": 3
   },
   "file_extension": ".py",
   "mimetype": "text/x-python",
   "name": "python",
   "nbconvert_exporter": "python",
   "pygments_lexer": "ipython3",
   "version": "3.8.8"
  }
 },
 "nbformat": 4,
 "nbformat_minor": 5
}
