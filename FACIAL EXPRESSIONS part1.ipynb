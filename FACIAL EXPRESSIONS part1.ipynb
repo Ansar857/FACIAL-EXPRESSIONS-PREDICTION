{
 "cells": [
  {
   "cell_type": "code",
   "execution_count": 1,
   "id": "d4e0d03f",
   "metadata": {},
   "outputs": [],
   "source": [
    "import os, shutil"
   ]
  },
  {
   "cell_type": "code",
   "execution_count": 2,
   "id": "c446c3fd",
   "metadata": {},
   "outputs": [],
   "source": [
    "original_dataset_dir = 'C:/Users/Muhammad Ansar/images'\n",
    "base_dir = 'C:/Users/Muhammad Ansar/happy sad small'\n",
    "os.mkdir(base_dir)\n",
    "train_dir = os.path.join(base_dir, 'train')\n",
    "os.mkdir(train_dir)\n",
    "validation_dir = os.path.join(base_dir, 'validation')\n",
    "os.mkdir(validation_dir)\n",
    "test_dir = os.path.join(base_dir, 'test')\n",
    "os.mkdir(test_dir)    "
   ]
  },
  {
   "cell_type": "markdown",
   "id": "a016f131",
   "metadata": {},
   "source": [
    "# TRAIN DIRECTORY"
   ]
  },
  {
   "cell_type": "code",
   "execution_count": 3,
   "id": "f1266fff",
   "metadata": {},
   "outputs": [],
   "source": [
    "train_angry_dir = os.path.join(train_dir, 'angry')\n",
    "os.mkdir(train_angry_dir)\n",
    "train_fear_dir = os.path.join(train_dir, 'fear')\n",
    "os.mkdir(train_fear_dir)\n",
    "train_happy_dir = os.path.join(train_dir, 'happy')\n",
    "os.mkdir(train_happy_dir)\n",
    "train_surprise_dir = os.path.join(train_dir, 'surprise')\n",
    "os.mkdir(train_surprise_dir)\n",
    "train_sad_dir = os.path.join(train_dir, 'sad')\n",
    "os.mkdir(train_sad_dir)\n",
    "train_neutral_dir = os.path.join(train_dir, 'neutral')\n",
    "os.mkdir(train_neutral_dir)"
   ]
  },
  {
   "cell_type": "markdown",
   "id": "6aa91c49",
   "metadata": {},
   "source": [
    "# TEST DIRECTORY"
   ]
  },
  {
   "cell_type": "code",
   "execution_count": 4,
   "id": "29d339f4",
   "metadata": {},
   "outputs": [],
   "source": [
    "test_angry_dir = os.path.join(test_dir, 'angry')\n",
    "os.mkdir(test_angry_dir)\n",
    "test_fear_dir = os.path.join(test_dir, 'fear')\n",
    "os.mkdir(test_fear_dir)\n",
    "test_happy_dir = os.path.join(test_dir, 'happy')\n",
    "os.mkdir(test_happy_dir)\n",
    "test_neutral_dir = os.path.join(test_dir, 'neutral')\n",
    "os.mkdir(test_neutral_dir)\n",
    "test_sad_dir = os.path.join(test_dir, 'sad')\n",
    "os.mkdir(test_sad_dir)\n",
    "test_surprise_dir = os.path.join(test_dir, 'surprise')\n",
    "os.mkdir(test_surprise_dir)"
   ]
  },
  {
   "cell_type": "markdown",
   "id": "61d4047a",
   "metadata": {},
   "source": [
    "# VALIDATION DIRECTORY"
   ]
  },
  {
   "cell_type": "code",
   "execution_count": 5,
   "id": "528154d2",
   "metadata": {},
   "outputs": [],
   "source": [
    "validation_angry_dir = os.path.join(validation_dir, 'angry')\n",
    "os.mkdir(validation_angry_dir)\n",
    "validation_fear_dir = os.path.join(validation_dir, 'fear')\n",
    "os.mkdir(validation_fear_dir)\n",
    "validation_happy_dir = os.path.join(validation_dir, 'happy')\n",
    "os.mkdir(validation_happy_dir)\n",
    "validation_neutral_dir = os.path.join(validation_dir, 'neutral')\n",
    "os.mkdir(validation_neutral_dir)\n",
    "validation_sad_dir = os.path.join(validation_dir, 'sad')\n",
    "os.mkdir(validation_sad_dir)\n",
    "validation_surprise_dir = os.path.join(validation_dir, 'surprise')\n",
    "os.mkdir(validation_surprise_dir)\n"
   ]
  },
  {
   "cell_type": "markdown",
   "id": "a0cf7738",
   "metadata": {},
   "source": [
    "# RENAMING PICTURES\n"
   ]
  },
  {
   "cell_type": "markdown",
   "id": "14bc4af8",
   "metadata": {},
   "source": [
    "## ANGRY"
   ]
  },
  {
   "cell_type": "code",
   "execution_count": 9,
   "id": "10c5ceb4",
   "metadata": {},
   "outputs": [],
   "source": [
    "import os\n",
    " \n",
    "# Function to rename multiple files\n",
    "def main():\n",
    "   \n",
    "    folder = 'C:/Users/Muhammad Ansar/images/train/angry'\n",
    "    for count, filename in enumerate(os.listdir(folder)):\n",
    "        dst = f\"{str(count)}.jpg\"\n",
    "        src =f\"{folder}/{filename}\"  # foldername/filename, if .py file is outside folder\n",
    "        dst =f\"{folder}/{dst}\"\n",
    "         \n",
    "        # rename() function will\n",
    "        # rename all the files\n",
    "        os.rename(src, dst)\n",
    " \n",
    "# Driver Code\n",
    "if __name__ == '__main__':\n",
    "     \n",
    "    # Calling main() function\n",
    "    main()\n"
   ]
  },
  {
   "cell_type": "markdown",
   "id": "9e64ee67",
   "metadata": {},
   "source": [
    "## FEAR"
   ]
  },
  {
   "cell_type": "code",
   "execution_count": 20,
   "id": "ec893866",
   "metadata": {},
   "outputs": [],
   "source": [
    "import os\n",
    " \n",
    "# Function to rename multiple files\n",
    "def main():\n",
    "   \n",
    "    folder = \"C:/Users/Muhammad Ansar/images/train/fear\"\n",
    "    for count, filename in enumerate(os.listdir(folder)):\n",
    "        dst = f\"{str(count)}.jpg\"\n",
    "        src =f\"{folder}/{filename}\"  # foldername/filename, if .py file is outside folder\n",
    "        dst =f\"{folder}/{dst}\"\n",
    "         \n",
    "        # rename() function will\n",
    "        # rename all the files\n",
    "        os.rename(src, dst)\n",
    " \n",
    "# Driver Code\n",
    "if __name__ == '__main__':\n",
    "     \n",
    "    # Calling main() function\n",
    "    main()"
   ]
  },
  {
   "cell_type": "markdown",
   "id": "fc9a757a",
   "metadata": {},
   "source": [
    "## HAPPY"
   ]
  },
  {
   "cell_type": "code",
   "execution_count": 21,
   "id": "5d729b08",
   "metadata": {},
   "outputs": [],
   "source": [
    "import os\n",
    " \n",
    "# Function to rename multiple files\n",
    "def main():\n",
    "   \n",
    "    folder = \"C:/Users/Muhammad Ansar/images/train/happy\"\n",
    "    for count, filename in enumerate(os.listdir(folder)):\n",
    "        dst = f\"{str(count)}.jpg\"\n",
    "        src =f\"{folder}/{filename}\"  # foldername/filename, if .py file is outside folder\n",
    "        dst =f\"{folder}/{dst}\"\n",
    "         \n",
    "        # rename() function will\n",
    "        # rename all the files\n",
    "        os.rename(src, dst)\n",
    " \n",
    "# Driver Code\n",
    "if __name__ == '__main__':\n",
    "     \n",
    "    # Calling main() function\n",
    "    main()"
   ]
  },
  {
   "cell_type": "markdown",
   "id": "9a937b1e",
   "metadata": {},
   "source": [
    "## NEUTRAL"
   ]
  },
  {
   "cell_type": "code",
   "execution_count": 22,
   "id": "6b87f12b",
   "metadata": {},
   "outputs": [],
   "source": [
    "import os\n",
    " \n",
    "# Function to rename multiple files\n",
    "def main():\n",
    "   \n",
    "    folder = \"C:/Users/Muhammad Ansar/images/train/neutral\"\n",
    "    for count, filename in enumerate(os.listdir(folder)):\n",
    "        dst = f\"{str(count)}.jpg\"\n",
    "        src =f\"{folder}/{filename}\"  # foldername/filename, if .py file is outside folder\n",
    "        dst =f\"{folder}/{dst}\"\n",
    "         \n",
    "        # rename() function will\n",
    "        # rename all the files\n",
    "        os.rename(src, dst)\n",
    " \n",
    "# Driver Code\n",
    "if __name__ == '__main__':\n",
    "     \n",
    "    # Calling main() function\n",
    "    main()"
   ]
  },
  {
   "cell_type": "markdown",
   "id": "25c73e13",
   "metadata": {},
   "source": [
    "## SAD"
   ]
  },
  {
   "cell_type": "code",
   "execution_count": 23,
   "id": "57caf094",
   "metadata": {},
   "outputs": [],
   "source": [
    "import os\n",
    " \n",
    "# Function to rename multiple files\n",
    "def main():\n",
    "   \n",
    "    folder = \"C:/Users/Muhammad Ansar/images/train/sad\"\n",
    "    for count, filename in enumerate(os.listdir(folder)):\n",
    "        dst = f\"{str(count)}.jpg\"\n",
    "        src =f\"{folder}/{filename}\"  # foldername/filename, if .py file is outside folder\n",
    "        dst =f\"{folder}/{dst}\"\n",
    "         \n",
    "        # rename() function will\n",
    "        # rename all the files\n",
    "        os.rename(src, dst)\n",
    " \n",
    "# Driver Code\n",
    "if __name__ == '__main__':\n",
    "     \n",
    "    # Calling main() function\n",
    "    main()"
   ]
  },
  {
   "cell_type": "markdown",
   "id": "43705f75",
   "metadata": {},
   "source": [
    "## SURPRISE\n"
   ]
  },
  {
   "cell_type": "code",
   "execution_count": 24,
   "id": "8500923c",
   "metadata": {},
   "outputs": [],
   "source": [
    "import os\n",
    " \n",
    "# Function to rename multiple files\n",
    "def main():\n",
    "   \n",
    "    folder = \"C:/Users/Muhammad Ansar/images/train/surprise\"\n",
    "    for count, filename in enumerate(os.listdir(folder)):\n",
    "        dst = f\"{str(count)}.jpg\"\n",
    "        src =f\"{folder}/{filename}\"  # foldername/filename, if .py file is outside folder\n",
    "        dst =f\"{folder}/{dst}\"\n",
    "         \n",
    "        # rename() function will\n",
    "        # rename all the files\n",
    "        os.rename(src, dst)\n",
    " \n",
    "# Driver Code\n",
    "if __name__ == '__main__':\n",
    "     \n",
    "    # Calling main() function\n",
    "    main()"
   ]
  },
  {
   "cell_type": "code",
   "execution_count": null,
   "id": "fb2530f8",
   "metadata": {},
   "outputs": [],
   "source": []
  }
 ],
 "metadata": {
  "kernelspec": {
   "display_name": "Python 3",
   "language": "python",
   "name": "python3"
  },
  "language_info": {
   "codemirror_mode": {
    "name": "ipython",
    "version": 3
   },
   "file_extension": ".py",
   "mimetype": "text/x-python",
   "name": "python",
   "nbconvert_exporter": "python",
   "pygments_lexer": "ipython3",
   "version": "3.8.8"
  }
 },
 "nbformat": 4,
 "nbformat_minor": 5
}
