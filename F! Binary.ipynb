{
 "cells": [
  {
   "cell_type": "code",
   "execution_count": 1,
   "id": "2eb8eed6",
   "metadata": {},
   "outputs": [],
   "source": [
    "import os, shutil"
   ]
  },
  {
   "cell_type": "code",
   "execution_count": 2,
   "id": "c446c3fd",
   "metadata": {},
   "outputs": [],
   "source": [
    "original_dataset_dir = 'C:/Users/Muhammad Ansar/images'\n",
    "base_dir = 'C:/Users/Muhammad Ansar/binary'\n",
    "os.mkdir(base_dir)\n",
    "train_dir = os.path.join(base_dir, 'train')\n",
    "os.mkdir(train_dir)\n",
    "validation_dir = os.path.join(base_dir, 'validation')\n",
    "os.mkdir(validation_dir)\n",
    "test_dir = os.path.join(base_dir, 'test')\n",
    "os.mkdir(test_dir)    "
   ]
  },
  {
   "cell_type": "markdown",
   "id": "a016f131",
   "metadata": {},
   "source": [
    "# TRAIN DIRECTORY"
   ]
  },
  {
   "cell_type": "code",
   "execution_count": 3,
   "id": "f1266fff",
   "metadata": {},
   "outputs": [],
   "source": [
    "train_happy_dir = os.path.join(train_dir, 'happy')\n",
    "os.mkdir(train_happy_dir)\n",
    "train_sad_dir = os.path.join(train_dir, 'sad')\n",
    "os.mkdir(train_sad_dir)"
   ]
  },
  {
   "cell_type": "markdown",
   "id": "6aa91c49",
   "metadata": {},
   "source": [
    "# TEST DIRECTORY"
   ]
  },
  {
   "cell_type": "code",
   "execution_count": 4,
   "id": "29d339f4",
   "metadata": {},
   "outputs": [],
   "source": [
    "test_happy_dir = os.path.join(test_dir, 'happy')\n",
    "os.mkdir(test_happy_dir)\n",
    "test_sad_dir = os.path.join(test_dir, 'sad')\n",
    "os.mkdir(test_sad_dir)\n"
   ]
  },
  {
   "cell_type": "markdown",
   "id": "61d4047a",
   "metadata": {},
   "source": [
    "# VALIDATION DIRECTORY"
   ]
  },
  {
   "cell_type": "code",
   "execution_count": 5,
   "id": "528154d2",
   "metadata": {},
   "outputs": [],
   "source": [
    "\n",
    "validation_happy_dir = os.path.join(validation_dir, 'happy')\n",
    "os.mkdir(validation_happy_dir)\n",
    "\n",
    "validation_sad_dir = os.path.join(validation_dir, 'sad')\n",
    "os.mkdir(validation_sad_dir)\n",
    "\n"
   ]
  },
  {
   "cell_type": "markdown",
   "id": "a0cf7738",
   "metadata": {},
   "source": [
    "# RENAMING PICTURES\n"
   ]
  },
  {
   "cell_type": "markdown",
   "id": "fc9a757a",
   "metadata": {},
   "source": [
    "## HAPPY"
   ]
  },
  {
   "cell_type": "code",
   "execution_count": 10,
   "id": "5d729b08",
   "metadata": {},
   "outputs": [],
   "source": [
    "import os\n",
    " \n",
    "# Function to rename multiple files\n",
    "def main():\n",
    "   \n",
    "    folder = \"C:/Users/Muhammad Ansar/images/train/happy\"\n",
    "    for count, filename in enumerate(os.listdir(folder)):\n",
    "        dst = f\"{str(count)}.jpg\"\n",
    "        src =f\"{folder}/{filename}\"  # foldername/filename, if .py file is outside folder\n",
    "        dst =f\"{folder}/{dst}\"\n",
    "         \n",
    "        # rename() function will\n",
    "        # rename all the files\n",
    "        os.rename(src, dst)\n",
    " \n",
    "# Driver Code\n",
    "if __name__ == '__main__':\n",
    "     \n",
    "    # Calling main() function\n",
    "    main()"
   ]
  },
  {
   "cell_type": "markdown",
   "id": "6a960246",
   "metadata": {},
   "source": [
    "## SAD"
   ]
  },
  {
   "cell_type": "code",
   "execution_count": 11,
   "id": "e4d369f5",
   "metadata": {},
   "outputs": [],
   "source": [
    "import os\n",
    " \n",
    "# Function to rename multiple files\n",
    "def main():\n",
    "   \n",
    "    folder = \"C:/Users/Muhammad Ansar/images/train/sad\"\n",
    "    for count, filename in enumerate(os.listdir(folder)):\n",
    "        dst = f\"{str(count)}.jpg\"\n",
    "        src =f\"{folder}/{filename}\"  # foldername/filename, if .py file is outside folder\n",
    "        dst =f\"{folder}/{dst}\"\n",
    "         \n",
    "        # rename() function will\n",
    "        # rename all the files\n",
    "        os.rename(src, dst)\n",
    " \n",
    "# Driver Code\n",
    "if __name__ == '__main__':\n",
    "     \n",
    "    # Calling main() function\n",
    "    main()"
   ]
  },
  {
   "cell_type": "markdown",
   "id": "6658e827",
   "metadata": {},
   "source": [
    "# copying images from the dataset"
   ]
  },
  {
   "cell_type": "code",
   "execution_count": 12,
   "id": "f68310fd",
   "metadata": {},
   "outputs": [],
   "source": [
    "# TRAINING"
   ]
  },
  {
   "cell_type": "code",
   "execution_count": 13,
   "id": "c30d2a68",
   "metadata": {},
   "outputs": [],
   "source": [
    "original_dataset_dir = 'C:/Users/Muhammad Ansar/images/train/sad'\n",
    "fnames = ['{}.jpg'.format(i) for i in range(1000)]\n",
    "for fname in fnames:\n",
    "    src = os.path.join(original_dataset_dir, fname)\n",
    "    dst = os.path.join(train_sad_dir, fname)\n",
    "    shutil.copyfile(src, dst)"
   ]
  },
  {
   "cell_type": "code",
   "execution_count": 14,
   "id": "704fb968",
   "metadata": {},
   "outputs": [],
   "source": [
    "original_dataset_dir = 'C:/Users/Muhammad Ansar/images/train/happy'\n",
    "fnames = ['{}.jpg'.format(i) for i in range(1000)]\n",
    "for fname in fnames:\n",
    "    src = os.path.join(original_dataset_dir, fname)\n",
    "    dst = os.path.join(train_happy_dir, fname)\n",
    "    shutil.copyfile(src, dst)"
   ]
  },
  {
   "cell_type": "markdown",
   "id": "cf29d2d2",
   "metadata": {},
   "source": [
    "# VALIDATION"
   ]
  },
  {
   "cell_type": "code",
   "execution_count": 15,
   "id": "4135d332",
   "metadata": {},
   "outputs": [],
   "source": [
    "original_dataset_dir = 'C:/Users/Muhammad Ansar/images/train/sad'\n",
    "fnames = ['{}.jpg'.format(i) for i in range(1000, 1500)]\n",
    "for fname in fnames:\n",
    "    src = os.path.join(original_dataset_dir, fname)\n",
    "    dst = os.path.join(validation_sad_dir, fname)\n",
    "    shutil.copyfile(src, dst)"
   ]
  },
  {
   "cell_type": "code",
   "execution_count": 16,
   "id": "e2427f88",
   "metadata": {},
   "outputs": [],
   "source": [
    "original_dataset_dir = 'C:/Users/Muhammad Ansar/images/train/happy'\n",
    "fnames = ['{}.jpg'.format(i) for i in range(1000, 1500)]\n",
    "for fname in fnames:\n",
    "    src = os.path.join(original_dataset_dir, fname)\n",
    "    dst = os.path.join(validation_happy_dir, fname)\n",
    "    shutil.copyfile(src, dst)"
   ]
  },
  {
   "cell_type": "markdown",
   "id": "b8b513c3",
   "metadata": {},
   "source": [
    "# TEST"
   ]
  },
  {
   "cell_type": "code",
   "execution_count": 17,
   "id": "39d2577f",
   "metadata": {},
   "outputs": [],
   "source": [
    "original_dataset_dir = 'C:/Users/Muhammad Ansar/images/train/sad'\n",
    "fnames = ['{}.jpg'.format(i) for i in range(1500, 2000)]\n",
    "for fname in fnames:\n",
    "    src = os.path.join(original_dataset_dir, fname)\n",
    "    dst = os.path.join(test_sad_dir, fname)\n",
    "    shutil.copyfile(src, dst)"
   ]
  },
  {
   "cell_type": "code",
   "execution_count": 18,
   "id": "9e538921",
   "metadata": {},
   "outputs": [],
   "source": [
    "original_dataset_dir = 'C:/Users/Muhammad Ansar/images/train/happy'\n",
    "fnames = ['{}.jpg'.format(i) for i in range(1500, 2000)]\n",
    "for fname in fnames:\n",
    "    src = os.path.join(original_dataset_dir, fname)\n",
    "    dst = os.path.join(test_happy_dir, fname)\n",
    "    shutil.copyfile(src, dst)"
   ]
  },
  {
   "cell_type": "markdown",
   "id": "97d371dd",
   "metadata": {},
   "source": [
    "#  Instantiating a small convnet for facial expressions classification"
   ]
  },
  {
   "cell_type": "code",
   "execution_count": 19,
   "id": "4a1b60e9",
   "metadata": {},
   "outputs": [],
   "source": [
    "from keras import layers\n",
    "from keras import models\n",
    "model = models.Sequential()\n",
    "model.add(layers.Conv2D(32, (3, 3), activation='relu',\n",
    "input_shape=(150, 150, 3)))\n",
    "model.add(layers.MaxPooling2D((2, 2)))\n",
    "model.add(layers.Conv2D(64, (3, 3), activation='relu'))\n",
    "model.add(layers.MaxPooling2D((2, 2)))\n",
    "model.add(layers.Conv2D(128, (3, 3), activation='relu'))\n",
    "model.add(layers.MaxPooling2D((2, 2)))\n",
    "model.add(layers.Conv2D(128, (3, 3), activation='relu'))\n",
    "model.add(layers.MaxPooling2D((2, 2)))\n",
    "model.add(layers.Flatten())\n",
    "model.add(layers.Dense(512, activation='relu'))\n",
    "model.add(layers.Dense(1, activation='sigmoid'))"
   ]
  },
  {
   "cell_type": "code",
   "execution_count": 20,
   "id": "1dc6b6a8",
   "metadata": {},
   "outputs": [
    {
     "name": "stdout",
     "output_type": "stream",
     "text": [
      "Model: \"sequential\"\n",
      "_________________________________________________________________\n",
      "Layer (type)                 Output Shape              Param #   \n",
      "=================================================================\n",
      "conv2d (Conv2D)              (None, 148, 148, 32)      896       \n",
      "_________________________________________________________________\n",
      "max_pooling2d (MaxPooling2D) (None, 74, 74, 32)        0         \n",
      "_________________________________________________________________\n",
      "conv2d_1 (Conv2D)            (None, 72, 72, 64)        18496     \n",
      "_________________________________________________________________\n",
      "max_pooling2d_1 (MaxPooling2 (None, 36, 36, 64)        0         \n",
      "_________________________________________________________________\n",
      "conv2d_2 (Conv2D)            (None, 34, 34, 128)       73856     \n",
      "_________________________________________________________________\n",
      "max_pooling2d_2 (MaxPooling2 (None, 17, 17, 128)       0         \n",
      "_________________________________________________________________\n",
      "conv2d_3 (Conv2D)            (None, 15, 15, 128)       147584    \n",
      "_________________________________________________________________\n",
      "max_pooling2d_3 (MaxPooling2 (None, 7, 7, 128)         0         \n",
      "_________________________________________________________________\n",
      "flatten (Flatten)            (None, 6272)              0         \n",
      "_________________________________________________________________\n",
      "dense (Dense)                (None, 512)               3211776   \n",
      "_________________________________________________________________\n",
      "dense_1 (Dense)              (None, 1)                 513       \n",
      "=================================================================\n",
      "Total params: 3,453,121\n",
      "Trainable params: 3,453,121\n",
      "Non-trainable params: 0\n",
      "_________________________________________________________________\n"
     ]
    }
   ],
   "source": [
    "model.summary()"
   ]
  },
  {
   "cell_type": "markdown",
   "id": "21e3e3ff",
   "metadata": {},
   "source": [
    "# Configuring the model for training"
   ]
  },
  {
   "cell_type": "code",
   "execution_count": 21,
   "id": "5c96a491",
   "metadata": {},
   "outputs": [
    {
     "name": "stderr",
     "output_type": "stream",
     "text": [
      "F:\\Anaconda3\\lib\\site-packages\\tensorflow\\python\\keras\\optimizer_v2\\optimizer_v2.py:374: UserWarning: The `lr` argument is deprecated, use `learning_rate` instead.\n",
      "  warnings.warn(\n"
     ]
    }
   ],
   "source": [
    "from keras import optimizers\n",
    "model.compile(loss='binary_crossentropy',optimizer=optimizers.RMSprop(lr=1e-4),metrics=['acc'])"
   ]
  },
  {
   "cell_type": "markdown",
   "id": "b2359ddd",
   "metadata": {},
   "source": [
    "# Using ImageDataGenerator to read images from directories"
   ]
  },
  {
   "cell_type": "code",
   "execution_count": 22,
   "id": "e70368fe",
   "metadata": {},
   "outputs": [],
   "source": [
    "from keras.preprocessing.image import ImageDataGenerator\n",
    "train_datagen = ImageDataGenerator(rescale=1./255)\n",
    "test_datagen = ImageDataGenerator(rescale=1./255)"
   ]
  },
  {
   "cell_type": "code",
   "execution_count": 23,
   "id": "6a943fc2",
   "metadata": {},
   "outputs": [
    {
     "name": "stdout",
     "output_type": "stream",
     "text": [
      "Found 2000 images belonging to 2 classes.\n"
     ]
    }
   ],
   "source": [
    "train_generator = train_datagen.flow_from_directory(train_dir,target_size=(150, 150),\n",
    "batch_size=20,\n",
    "class_mode='binary')"
   ]
  },
  {
   "cell_type": "code",
   "execution_count": 24,
   "id": "3188b51c",
   "metadata": {},
   "outputs": [
    {
     "name": "stdout",
     "output_type": "stream",
     "text": [
      "Found 1000 images belonging to 2 classes.\n"
     ]
    }
   ],
   "source": [
    "validation_generator = test_datagen.flow_from_directory(\n",
    "validation_dir,\n",
    "target_size=(150, 150),\n",
    "batch_size=60,\n",
    "class_mode='binary')"
   ]
  },
  {
   "cell_type": "code",
   "execution_count": 25,
   "id": "9a9803ce",
   "metadata": {},
   "outputs": [
    {
     "name": "stdout",
     "output_type": "stream",
     "text": [
      "data batch shape: (20, 150, 150, 3)\n",
      "labels batch shape: (20,)\n"
     ]
    }
   ],
   "source": [
    "for data_batch, labels_batch in train_generator:\n",
    "    print('data batch shape:', data_batch.shape)\n",
    "    print('labels batch shape:', labels_batch.shape)\n",
    "    break\n"
   ]
  },
  {
   "cell_type": "markdown",
   "id": "f38875a7",
   "metadata": {},
   "source": [
    "# Fitting the model using a batch generator"
   ]
  },
  {
   "cell_type": "code",
   "execution_count": 27,
   "id": "725ede7f",
   "metadata": {},
   "outputs": [
    {
     "name": "stdout",
     "output_type": "stream",
     "text": [
      "Epoch 1/30\n",
      "100/100 [==============================] - ETA: 0s - loss: 0.6611 - acc: 0.6035WARNING:tensorflow:Your input ran out of data; interrupting training. Make sure that your dataset or generator can generate at least `steps_per_epoch * epochs` batches (in this case, 50 batches). You may need to use the repeat() function when building your dataset.\n",
      "100/100 [==============================] - 211s 2s/step - loss: 0.6611 - acc: 0.6035 - val_loss: 0.6268 - val_acc: 0.6890\n",
      "Epoch 2/30\n",
      "100/100 [==============================] - 197s 2s/step - loss: 0.6031 - acc: 0.6955\n",
      "Epoch 3/30\n",
      "100/100 [==============================] - 194s 2s/step - loss: 0.5601 - acc: 0.7280\n",
      "Epoch 4/30\n",
      "100/100 [==============================] - 163s 2s/step - loss: 0.5222 - acc: 0.7440\n",
      "Epoch 5/30\n",
      "100/100 [==============================] - 180s 2s/step - loss: 0.4907 - acc: 0.7705\n",
      "Epoch 6/30\n",
      "100/100 [==============================] - 147s 1s/step - loss: 0.4639 - acc: 0.7890\n",
      "Epoch 7/30\n",
      "100/100 [==============================] - 203s 2s/step - loss: 0.4368 - acc: 0.8055\n",
      "Epoch 8/30\n",
      "100/100 [==============================] - 206s 2s/step - loss: 0.4195 - acc: 0.8175\n",
      "Epoch 9/30\n",
      "100/100 [==============================] - 185s 2s/step - loss: 0.3858 - acc: 0.8325\n",
      "Epoch 10/30\n",
      "100/100 [==============================] - 195s 2s/step - loss: 0.3588 - acc: 0.8385\n",
      "Epoch 11/30\n",
      "100/100 [==============================] - 231s 2s/step - loss: 0.3314 - acc: 0.8570\n",
      "Epoch 12/30\n",
      "100/100 [==============================] - 213s 2s/step - loss: 0.3078 - acc: 0.8745\n",
      "Epoch 13/30\n",
      "100/100 [==============================] - 204s 2s/step - loss: 0.2776 - acc: 0.8870\n",
      "Epoch 14/30\n",
      "100/100 [==============================] - 195s 2s/step - loss: 0.2492 - acc: 0.8960\n",
      "Epoch 15/30\n",
      "100/100 [==============================] - 186s 2s/step - loss: 0.2246 - acc: 0.9090\n",
      "Epoch 16/30\n",
      "100/100 [==============================] - 176s 2s/step - loss: 0.1885 - acc: 0.9300\n",
      "Epoch 17/30\n",
      "100/100 [==============================] - 175s 2s/step - loss: 0.1690 - acc: 0.9350\n",
      "Epoch 18/30\n",
      "100/100 [==============================] - 175s 2s/step - loss: 0.1483 - acc: 0.9455\n",
      "Epoch 19/30\n",
      "100/100 [==============================] - 173s 2s/step - loss: 0.1244 - acc: 0.9570\n",
      "Epoch 20/30\n",
      "100/100 [==============================] - 176s 2s/step - loss: 0.1087 - acc: 0.9615\n",
      "Epoch 21/30\n",
      "100/100 [==============================] - 189s 2s/step - loss: 0.0853 - acc: 0.9815\n",
      "Epoch 22/30\n",
      "100/100 [==============================] - 167s 2s/step - loss: 0.0717 - acc: 0.9785\n",
      "Epoch 23/30\n",
      "100/100 [==============================] - 236s 2s/step - loss: 0.0566 - acc: 0.9835\n",
      "Epoch 24/30\n",
      "100/100 [==============================] - 217s 2s/step - loss: 0.0481 - acc: 0.9890\n",
      "Epoch 25/30\n",
      "100/100 [==============================] - 111s 1s/step - loss: 0.0318 - acc: 0.9910\n",
      "Epoch 26/30\n",
      "100/100 [==============================] - 110s 1s/step - loss: 0.0341 - acc: 0.9900\n",
      "Epoch 27/30\n",
      "100/100 [==============================] - 110s 1s/step - loss: 0.0201 - acc: 0.9955\n",
      "Epoch 28/30\n",
      "100/100 [==============================] - 112s 1s/step - loss: 0.0268 - acc: 0.9915\n",
      "Epoch 29/30\n",
      "100/100 [==============================] - 112s 1s/step - loss: 0.0219 - acc: 0.9950\n",
      "Epoch 30/30\n",
      "100/100 [==============================] - 114s 1s/step - loss: 0.0147 - acc: 0.9950\n"
     ]
    }
   ],
   "source": [
    "history = model.fit_generator(\n",
    "train_generator,\n",
    "steps_per_epoch=100,\n",
    "epochs=30,\n",
    "validation_data=validation_generator,\n",
    "validation_steps=50)"
   ]
  },
  {
   "cell_type": "markdown",
   "id": "75474222",
   "metadata": {},
   "source": [
    "# Saving the mode"
   ]
  },
  {
   "cell_type": "code",
   "execution_count": 28,
   "id": "2ea34987",
   "metadata": {},
   "outputs": [],
   "source": [
    "model.save('facial_expressions_small_1.h5')"
   ]
  },
  {
   "cell_type": "markdown",
   "id": "70fcb68c",
   "metadata": {},
   "source": [
    "# Displaying curves of loss and accuracy during training\n"
   ]
  },
  {
   "cell_type": "code",
   "execution_count": 1,
   "id": "39204e9a",
   "metadata": {},
   "outputs": [
    {
     "ename": "NameError",
     "evalue": "name 'history' is not defined",
     "output_type": "error",
     "traceback": [
      "\u001b[1;31m---------------------------------------------------------------------------\u001b[0m",
      "\u001b[1;31mNameError\u001b[0m                                 Traceback (most recent call last)",
      "\u001b[1;32m<ipython-input-1-2a1f94d895e5>\u001b[0m in \u001b[0;36m<module>\u001b[1;34m\u001b[0m\n\u001b[0;32m      1\u001b[0m \u001b[1;32mimport\u001b[0m \u001b[0mmatplotlib\u001b[0m\u001b[1;33m.\u001b[0m\u001b[0mpyplot\u001b[0m \u001b[1;32mas\u001b[0m \u001b[0mplt\u001b[0m\u001b[1;33m\u001b[0m\u001b[1;33m\u001b[0m\u001b[0m\n\u001b[1;32m----> 2\u001b[1;33m \u001b[0macc\u001b[0m \u001b[1;33m=\u001b[0m \u001b[0mhistory\u001b[0m\u001b[1;33m.\u001b[0m\u001b[0mhistory\u001b[0m\u001b[1;33m[\u001b[0m\u001b[1;34m'acc'\u001b[0m\u001b[1;33m]\u001b[0m\u001b[1;33m\u001b[0m\u001b[1;33m\u001b[0m\u001b[0m\n\u001b[0m\u001b[0;32m      3\u001b[0m \u001b[0mval_acc\u001b[0m \u001b[1;33m=\u001b[0m \u001b[0mhistory\u001b[0m\u001b[1;33m.\u001b[0m\u001b[0mhistory\u001b[0m\u001b[1;33m[\u001b[0m\u001b[1;34m'val_acc'\u001b[0m\u001b[1;33m]\u001b[0m\u001b[1;33m\u001b[0m\u001b[1;33m\u001b[0m\u001b[0m\n\u001b[0;32m      4\u001b[0m \u001b[0mloss\u001b[0m \u001b[1;33m=\u001b[0m \u001b[0mhistory\u001b[0m\u001b[1;33m.\u001b[0m\u001b[0mhistory\u001b[0m\u001b[1;33m[\u001b[0m\u001b[1;34m'loss'\u001b[0m\u001b[1;33m]\u001b[0m\u001b[1;33m\u001b[0m\u001b[1;33m\u001b[0m\u001b[0m\n\u001b[0;32m      5\u001b[0m \u001b[0mval_loss\u001b[0m \u001b[1;33m=\u001b[0m \u001b[0mhistory\u001b[0m\u001b[1;33m.\u001b[0m\u001b[0mhistory\u001b[0m\u001b[1;33m[\u001b[0m\u001b[1;34m'val_loss'\u001b[0m\u001b[1;33m]\u001b[0m\u001b[1;33m\u001b[0m\u001b[1;33m\u001b[0m\u001b[0m\n",
      "\u001b[1;31mNameError\u001b[0m: name 'history' is not defined"
     ]
    }
   ],
   "source": [
    "import matplotlib.pyplot as plt\n",
    "acc = history.history['acc']\n",
    "val_acc = history.history['val_acc']\n",
    "loss = history.history['loss']\n",
    "val_loss = history.history['val_loss']\n",
    "epochs = range(1, len(acc) + 1)\n",
    "plt.plot(epochs, acc, 'bo', label='Training acc')\n",
    "plt.plot(epochs, val_acc, 'b', label='Validation acc')\n",
    "plt.title('Training and validation accuracy')\n",
    "plt.legend()\n",
    "plt.figure()\n",
    "plt.plot(epochs, loss, 'bo', label='Training loss')\n",
    "plt.plot(epochs, val_loss, 'b', label='Validation loss')\n",
    "plt.title('Training and validation loss')\n",
    "plt.legend()\n",
    "plt.show()"
   ]
  },
  {
   "cell_type": "code",
   "execution_count": null,
   "id": "934d5937",
   "metadata": {},
   "outputs": [],
   "source": []
  },
  {
   "cell_type": "code",
   "execution_count": null,
   "id": "bd3e94d2",
   "metadata": {},
   "outputs": [],
   "source": []
  }
 ],
 "metadata": {
  "kernelspec": {
   "display_name": "Python 3",
   "language": "python",
   "name": "python3"
  },
  "language_info": {
   "codemirror_mode": {
    "name": "ipython",
    "version": 3
   },
   "file_extension": ".py",
   "mimetype": "text/x-python",
   "name": "python",
   "nbconvert_exporter": "python",
   "pygments_lexer": "ipython3",
   "version": "3.8.8"
  }
 },
 "nbformat": 4,
 "nbformat_minor": 5
}
